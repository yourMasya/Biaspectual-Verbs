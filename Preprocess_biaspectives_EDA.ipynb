{
  "nbformat": 4,
  "nbformat_minor": 0,
  "metadata": {
    "colab": {
      "provenance": [],
      "gpuType": "T4"
    },
    "kernelspec": {
      "name": "python3",
      "display_name": "Python 3"
    },
    "language_info": {
      "name": "python"
    },
    "accelerator": "GPU"
  },
  "cells": [
    {
      "cell_type": "markdown",
      "source": [
        "* Квантитативный стафф: отношение аналитических форм будущего времени ко всем\n",
        "* Наличие причастий настоящего времени как критерий НСВ (считай их отношение ко всем остальным временам?), отношение деепричастий СВ и НСВ между собой. СВ / НСВ (ибо НСВ больше)\n",
        "* Отрицание перед глаголом\n",
        "________\n",
        "* Разметка окончаний и суффиксов причастий и дее-.\n",
        "* Фильтрация плохо представленных глаголов без видовой оппозиции\n",
        "* Финальный дроп датасета в джейсон.\n",
        "________\n",
        "* Замерять качество на каждом этапе.\n",
        "* Обучить на контекстах руберт.\n",
        "* На признаках кэтбуст.\n",
        "________\n",
        "* ??? Мб прототипический стафф. Обучить глов на Токенах СВ/НСВ вместо глаголов и прокинуть к получившимся эмбеддингам.\n",
        "* 2 слоя с софтмаксом в конце."
      ],
      "metadata": {
        "id": "9QDHh5q2xr5e"
      }
    },
    {
      "cell_type": "markdown",
      "source": [
        "# Importing packages / opening dataset"
      ],
      "metadata": {
        "id": "WOwDjBepePXt"
      }
    },
    {
      "cell_type": "code",
      "source": [
        "!pip install pandas==2.1.4"
      ],
      "metadata": {
        "colab": {
          "base_uri": "https://localhost:8080/"
        },
        "id": "zATWblWuik1Y",
        "outputId": "b9fbbbd3-cf15-447f-e657-4459d31b6778"
      },
      "execution_count": 37,
      "outputs": [
        {
          "output_type": "stream",
          "name": "stdout",
          "text": [
            "Requirement already satisfied: pandas==2.1.4 in /usr/local/lib/python3.10/dist-packages (2.1.4)\n",
            "Requirement already satisfied: numpy<2,>=1.22.4 in /usr/local/lib/python3.10/dist-packages (from pandas==2.1.4) (1.26.4)\n",
            "Requirement already satisfied: python-dateutil>=2.8.2 in /usr/local/lib/python3.10/dist-packages (from pandas==2.1.4) (2.8.2)\n",
            "Requirement already satisfied: pytz>=2020.1 in /usr/local/lib/python3.10/dist-packages (from pandas==2.1.4) (2024.2)\n",
            "Requirement already satisfied: tzdata>=2022.1 in /usr/local/lib/python3.10/dist-packages (from pandas==2.1.4) (2024.1)\n",
            "Requirement already satisfied: six>=1.5 in /usr/local/lib/python3.10/dist-packages (from python-dateutil>=2.8.2->pandas==2.1.4) (1.16.0)\n"
          ]
        }
      ]
    },
    {
      "cell_type": "code",
      "source": [
        "from google.colab import drive\n",
        "drive.mount('/content/drive')"
      ],
      "metadata": {
        "colab": {
          "base_uri": "https://localhost:8080/"
        },
        "id": "YW0SR4mnhESI",
        "outputId": "9515d4c3-14c8-4c0b-b475-c82a23a68e0d"
      },
      "execution_count": 38,
      "outputs": [
        {
          "output_type": "stream",
          "name": "stdout",
          "text": [
            "Drive already mounted at /content/drive; to attempt to forcibly remount, call drive.mount(\"/content/drive\", force_remount=True).\n"
          ]
        }
      ]
    },
    {
      "cell_type": "code",
      "execution_count": 39,
      "metadata": {
        "id": "FN8Bo3mirHVE"
      },
      "outputs": [],
      "source": [
        "import re\n",
        "from itertools import zip_longest\n",
        "import os\n",
        "import json\n",
        "\n",
        "import numpy as np\n",
        "import pandas as pd\n",
        "\n",
        "from IPython.display import display"
      ]
    },
    {
      "cell_type": "code",
      "source": [
        "def combine_json_files(folder_path):\n",
        "  combined_data = pd.DataFrame()\n",
        "  # not_biaspectuals_or_not_parsed = []\n",
        "  for filename in os.listdir(folder_path):\n",
        "      if not filename.endswith('both.json') and filename.endswith('.json'):\n",
        "        lemma, aspect_json = filename.split(\"_\")\n",
        "        aspect = aspect_json[:-5]\n",
        "        file_path = os.path.join(folder_path, filename)\n",
        "        if filename[:-5].endswith('imp'):\n",
        "          imp_df = pd.read_json(file_path, orient='records')\n",
        "        elif filename[:-5].endswith('perf'):\n",
        "          perf_df = pd.read_json(file_path, orient='records')\n",
        "\n",
        "          if imp_df.shape[1] == 0 or perf_df.shape[1] == 0:\n",
        "            pass\n",
        "            # imp_df.drop(imp_df, inplace=True, axis=1)\n",
        "            # perf_df.drop(perf_df, inplace=True, axis=1)\n",
        "            # not_biaspectuals_or_not_parsed.append(lemma)\n",
        "          else:\n",
        "            try:\n",
        "              combined_data = pd.concat([combined_data, imp_df, perf_df])\n",
        "            except UnicodeDecodeError:\n",
        "              continue\n",
        "  return combined_data #, not_biaspectuals_or_not_parsed\n",
        "\n",
        "def add_morphonology(df, data_path):\n",
        "  morphon_data = pd.read_json(data_path, orient='records')\n",
        "  return pd.merge(df, morphon_data, on='лемма', how='inner')\n",
        "\n",
        "folder_path = '/content/drive/MyDrive/biaspectual_verbs'\n",
        "morphonology_data_path = '/content/drive/MyDrive/morphonology_dataset.json'\n",
        "df = combine_json_files(folder_path)\n",
        "df = add_morphonology(df, morphonology_data_path)\n",
        "print(df.shape)\n",
        "df.head(1)"
      ],
      "metadata": {
        "id": "ymVJuFhWFgai",
        "colab": {
          "base_uri": "https://localhost:8080/",
          "height": 150
        },
        "outputId": "2dc87a83-0c58-4420-d931-35e27e874f7c"
      },
      "execution_count": 40,
      "outputs": [
        {
          "output_type": "stream",
          "name": "stdout",
          "text": [
            "(31958, 11)\n"
          ]
        },
        {
          "output_type": "execute_result",
          "data": {
            "text/plain": [
              "                основной анализ       словоформа              лемма  \\\n",
              "0  омонимия снята автоматически  бюрократизирует  бюрократизировать   \n",
              "\n",
              "                                            контекст  \\\n",
              "0  ремесленниками в своей профессии, малыми частн...   \n",
              "\n",
              "                                          грамматика           семантика  \\\n",
              "0  глагол, 3-е лицо, действительный, изъявительно...  расплють (0.39892)   \n",
              "\n",
              "  похожие слова синтаксические свойства слова  \\\n",
              "0           NaN             бюрократизировать   \n",
              "\n",
              "                                       доп. признаки  \\\n",
              "0  глагол, 3-е лицо, действительный, будущее, изъ...   \n",
              "\n",
              "                   ударение                                   морфемный разбор  \n",
              "0  бю-ро-кра-ти-зи́-ро-вать  Корень: -бюрократ-; интерфиксы: -из-ир-; суффи...  "
            ],
            "text/html": [
              "\n",
              "  <div id=\"df-772801aa-3d11-472b-afcd-985c9b930b41\" class=\"colab-df-container\">\n",
              "    <div>\n",
              "<style scoped>\n",
              "    .dataframe tbody tr th:only-of-type {\n",
              "        vertical-align: middle;\n",
              "    }\n",
              "\n",
              "    .dataframe tbody tr th {\n",
              "        vertical-align: top;\n",
              "    }\n",
              "\n",
              "    .dataframe thead th {\n",
              "        text-align: right;\n",
              "    }\n",
              "</style>\n",
              "<table border=\"1\" class=\"dataframe\">\n",
              "  <thead>\n",
              "    <tr style=\"text-align: right;\">\n",
              "      <th></th>\n",
              "      <th>основной анализ</th>\n",
              "      <th>словоформа</th>\n",
              "      <th>лемма</th>\n",
              "      <th>контекст</th>\n",
              "      <th>грамматика</th>\n",
              "      <th>семантика</th>\n",
              "      <th>похожие слова</th>\n",
              "      <th>синтаксические свойства слова</th>\n",
              "      <th>доп. признаки</th>\n",
              "      <th>ударение</th>\n",
              "      <th>морфемный разбор</th>\n",
              "    </tr>\n",
              "  </thead>\n",
              "  <tbody>\n",
              "    <tr>\n",
              "      <th>0</th>\n",
              "      <td>омонимия снята автоматически</td>\n",
              "      <td>бюрократизирует</td>\n",
              "      <td>бюрократизировать</td>\n",
              "      <td>ремесленниками в своей профессии, малыми частн...</td>\n",
              "      <td>глагол, 3-е лицо, действительный, изъявительно...</td>\n",
              "      <td>расплють (0.39892)</td>\n",
              "      <td>NaN</td>\n",
              "      <td>бюрократизировать</td>\n",
              "      <td>глагол, 3-е лицо, действительный, будущее, изъ...</td>\n",
              "      <td>бю-ро-кра-ти-зи́-ро-вать</td>\n",
              "      <td>Корень: -бюрократ-; интерфиксы: -из-ир-; суффи...</td>\n",
              "    </tr>\n",
              "  </tbody>\n",
              "</table>\n",
              "</div>\n",
              "    <div class=\"colab-df-buttons\">\n",
              "\n",
              "  <div class=\"colab-df-container\">\n",
              "    <button class=\"colab-df-convert\" onclick=\"convertToInteractive('df-772801aa-3d11-472b-afcd-985c9b930b41')\"\n",
              "            title=\"Convert this dataframe to an interactive table.\"\n",
              "            style=\"display:none;\">\n",
              "\n",
              "  <svg xmlns=\"http://www.w3.org/2000/svg\" height=\"24px\" viewBox=\"0 -960 960 960\">\n",
              "    <path d=\"M120-120v-720h720v720H120Zm60-500h600v-160H180v160Zm220 220h160v-160H400v160Zm0 220h160v-160H400v160ZM180-400h160v-160H180v160Zm440 0h160v-160H620v160ZM180-180h160v-160H180v160Zm440 0h160v-160H620v160Z\"/>\n",
              "  </svg>\n",
              "    </button>\n",
              "\n",
              "  <style>\n",
              "    .colab-df-container {\n",
              "      display:flex;\n",
              "      gap: 12px;\n",
              "    }\n",
              "\n",
              "    .colab-df-convert {\n",
              "      background-color: #E8F0FE;\n",
              "      border: none;\n",
              "      border-radius: 50%;\n",
              "      cursor: pointer;\n",
              "      display: none;\n",
              "      fill: #1967D2;\n",
              "      height: 32px;\n",
              "      padding: 0 0 0 0;\n",
              "      width: 32px;\n",
              "    }\n",
              "\n",
              "    .colab-df-convert:hover {\n",
              "      background-color: #E2EBFA;\n",
              "      box-shadow: 0px 1px 2px rgba(60, 64, 67, 0.3), 0px 1px 3px 1px rgba(60, 64, 67, 0.15);\n",
              "      fill: #174EA6;\n",
              "    }\n",
              "\n",
              "    .colab-df-buttons div {\n",
              "      margin-bottom: 4px;\n",
              "    }\n",
              "\n",
              "    [theme=dark] .colab-df-convert {\n",
              "      background-color: #3B4455;\n",
              "      fill: #D2E3FC;\n",
              "    }\n",
              "\n",
              "    [theme=dark] .colab-df-convert:hover {\n",
              "      background-color: #434B5C;\n",
              "      box-shadow: 0px 1px 3px 1px rgba(0, 0, 0, 0.15);\n",
              "      filter: drop-shadow(0px 1px 2px rgba(0, 0, 0, 0.3));\n",
              "      fill: #FFFFFF;\n",
              "    }\n",
              "  </style>\n",
              "\n",
              "    <script>\n",
              "      const buttonEl =\n",
              "        document.querySelector('#df-772801aa-3d11-472b-afcd-985c9b930b41 button.colab-df-convert');\n",
              "      buttonEl.style.display =\n",
              "        google.colab.kernel.accessAllowed ? 'block' : 'none';\n",
              "\n",
              "      async function convertToInteractive(key) {\n",
              "        const element = document.querySelector('#df-772801aa-3d11-472b-afcd-985c9b930b41');\n",
              "        const dataTable =\n",
              "          await google.colab.kernel.invokeFunction('convertToInteractive',\n",
              "                                                    [key], {});\n",
              "        if (!dataTable) return;\n",
              "\n",
              "        const docLinkHtml = 'Like what you see? Visit the ' +\n",
              "          '<a target=\"_blank\" href=https://colab.research.google.com/notebooks/data_table.ipynb>data table notebook</a>'\n",
              "          + ' to learn more about interactive tables.';\n",
              "        element.innerHTML = '';\n",
              "        dataTable['output_type'] = 'display_data';\n",
              "        await google.colab.output.renderOutput(dataTable, element);\n",
              "        const docLink = document.createElement('div');\n",
              "        docLink.innerHTML = docLinkHtml;\n",
              "        element.appendChild(docLink);\n",
              "      }\n",
              "    </script>\n",
              "  </div>\n",
              "\n",
              "    </div>\n",
              "  </div>\n"
            ],
            "application/vnd.google.colaboratory.intrinsic+json": {
              "type": "dataframe",
              "variable_name": "df",
              "summary": "{\n  \"name\": \"df\",\n  \"rows\": 31958,\n  \"fields\": [\n    {\n      \"column\": \"\\u043e\\u0441\\u043d\\u043e\\u0432\\u043d\\u043e\\u0439 \\u0430\\u043d\\u0430\\u043b\\u0438\\u0437\",\n      \"properties\": {\n        \"dtype\": \"category\",\n        \"num_unique_values\": 2,\n        \"samples\": [\n          \"\\u043e\\u043c\\u043e\\u043d\\u0438\\u043c\\u0438\\u044f \\u0441\\u043d\\u044f\\u0442\\u0430\",\n          \"\\u043e\\u043c\\u043e\\u043d\\u0438\\u043c\\u0438\\u044f \\u0441\\u043d\\u044f\\u0442\\u0430 \\u0430\\u0432\\u0442\\u043e\\u043c\\u0430\\u0442\\u0438\\u0447\\u0435\\u0441\\u043a\\u0438\"\n        ],\n        \"semantic_type\": \"\",\n        \"description\": \"\"\n      }\n    },\n    {\n      \"column\": \"\\u0441\\u043b\\u043e\\u0432\\u043e\\u0444\\u043e\\u0440\\u043c\\u0430\",\n      \"properties\": {\n        \"dtype\": \"category\",\n        \"num_unique_values\": 6303,\n        \"samples\": [\n          \"\\u043a\\u043e\\u043e\\u043f\\u0442\\u0438\\u0440\\u043e\\u0432\\u0430\\u043b\",\n          \"\\u0434\\u0430\\u0442\\u0438\\u0440\\u0443\\u0435\\u0442\\u0441\\u044f\"\n        ],\n        \"semantic_type\": \"\",\n        \"description\": \"\"\n      }\n    },\n    {\n      \"column\": \"\\u043b\\u0435\\u043c\\u043c\\u0430\",\n      \"properties\": {\n        \"dtype\": \"category\",\n        \"num_unique_values\": 390,\n        \"samples\": [\n          \"\\u0433\\u0430\\u0437\\u0438\\u0440\\u043e\\u0432\\u0430\\u0442\\u044c\",\n          \"\\u0434\\u0435\\u043c\\u043e\\u043a\\u0440\\u0430\\u0442\\u0438\\u0437\\u0438\\u0440\\u043e\\u0432\\u0430\\u0442\\u044c\"\n        ],\n        \"semantic_type\": \"\",\n        \"description\": \"\"\n      }\n    },\n    {\n      \"column\": \"\\u043a\\u043e\\u043d\\u0442\\u0435\\u043a\\u0441\\u0442\",\n      \"properties\": {\n        \"dtype\": \"string\",\n        \"num_unique_values\": 24759,\n        \"samples\": [\n          \"\\u0434\\u0435\\u043b\\u043e, \\u0432 \\u0440\\u0430\\u0441\\u0441\\u0443\\u0436\\u0434\\u0435\\u043d\\u0438\\u044f\\u0445 \\u043e \\u0442\\u043e\\u043c, \\u043a\\u0430\\u043a\\u043e\\u043c\\u0443 \\u0438\\u0437 \\u0434\\u0435\\u043f\\u0430\\u0440\\u0442\\u0430\\u043c\\u0435\\u043d\\u0442\\u043e\\u0432 \\u043f\\u0430\\u043b\\u0430\\u0442\\u044b \\u2014 \\u0443\\u0433\\u043e\\u043b\\u043e\\u0432\\u043d\\u043e\\u043c\\u0443 \\u0438\\u043b\\u0438 \\u0433\\u0440\\u0430\\u0436\\u0434\\u0430\\u043d\\u0441\\u043a\\u043e\\u043c\\u0443 \\u2014 \\u043d\\u0430\\u0434\\u043b\\u0435\\u0436\\u0438\\u0442 \\u0432 \\u0434\\u0440\\u0443\\u0433\\u043e\\u043c \\u0441\\u043e\\u0441\\u0442\\u0430\\u0432\\u0435 \\u0440\\u0430\\u0441\\u0441\\u043c\\u043e\\u0442\\u0440\\u0435\\u0442\\u044c \\u0432\\u043d\\u043e\\u0432\\u044c \\u043a\\u0430\\u0441\\u0441\\u0438\\u0440\\u043e\\u0432\\u0430\\u043d\\u043d\\u043e\\u0435 \\u043f\\u0440\\u043e\\u0438\\u0437\\u0432\\u043e\\u0434\\u0441\\u0442\\u0432\\u043e.\",\n          \"\\u0422\\u0440\\u0443\\u0434\\u043d\\u043e \\u0441\\u043b\\u043e\\u0432\\u0430\\u043c\\u0438 \\u0432\\u044b\\u0440\\u0430\\u0437\\u0438\\u0442\\u044c \\u0432\\u0435\\u0441\\u044c \\u0432\\u043e\\u0441\\u0442\\u043e\\u0440\\u0433, \\u043a\\u043e\\u0433\\u0434\\u0430 \\u043a\\u043e \\u0432\\u0441\\u0435\\u043c \\u044d\\u0442\\u0438\\u043c \\u0447\\u0443\\u0432\\u0441\\u0442\\u0432\\u0430\\u043c \\u0434\\u043e\\u0431\\u0430\\u0432\\u043b\\u044f\\u0435\\u0442\\u0441\\u044f \\u0435\\u0449\\u0435 \\u0438 \\u0432\\u043e\\u0437\\u043c\\u043e\\u0436\\u043d\\u043e\\u0441\\u0442\\u044c \\u043e\\u0442\\u043f\\u0440\\u0430\\u0432\\u0438\\u0442\\u044c\\u0441\\u044f \\u043d\\u0430 \\u043a\\u043e\\u0441\\u0442\\u044e\\u043c\\u0438\\u0440\\u043e\\u0432\\u0430\\u043d\\u043d\\u044b\\u0439 \\u0432\\u0435\\u0447\\u0435\\u0440 \\u0432 \\u041e\\u0444\\u0438\\u0446\\u0435\\u0440\\u0441\\u043a\\u043e\\u0435 \\u0441\\u043e\\u0431\\u0440\\u0430\\u043d\\u0438\\u0435.\"\n        ],\n        \"semantic_type\": \"\",\n        \"description\": \"\"\n      }\n    },\n    {\n      \"column\": \"\\u0433\\u0440\\u0430\\u043c\\u043c\\u0430\\u0442\\u0438\\u043a\\u0430\",\n      \"properties\": {\n        \"dtype\": \"category\",\n        \"num_unique_values\": 434,\n        \"samples\": [\n          \"\\u0433\\u043b\\u0430\\u0433\\u043e\\u043b, \\u0434\\u0435\\u0439\\u0441\\u0442\\u0432\\u0438\\u0442\\u0435\\u043b\\u044c\\u043d\\u044b\\u0439, \\u0436\\u0435\\u043d\\u0441\\u043a\\u0438\\u0439, \\u043d\\u0435\\u043f\\u0435\\u0440\\u0435\\u0445\\u043e\\u0434\\u043d\\u044b\\u0439, \\u043d\\u0435\\u0441\\u043e\\u0432\\u0435\\u0440\\u0448\\u0435\\u043d\\u043d\\u044b\\u0439, \\u043f\\u0440\\u0435\\u0434\\u043b\\u043e\\u0436\\u043d\\u044b\\u0439, \\u043f\\u0440\\u0438\\u0447\\u0430\\u0441\\u0442\\u0438\\u0435, \\u043f\\u043e\\u043b\\u043d\\u0430\\u044f \\u0444\\u043e\\u0440\\u043c\\u0430, \\u043d\\u0430\\u0441\\u0442\\u043e\\u044f\\u0449\\u0435\\u0435, \\u0435\\u0434\\u0438\\u043d\\u0441\\u0442\\u0432\\u0435\\u043d\\u043d\\u043e\\u0435\",\n          \"\\u0433\\u043b\\u0430\\u0433\\u043e\\u043b, \\u0432\\u0438\\u043d\\u0438\\u0442\\u0435\\u043b\\u044c\\u043d\\u044b\\u0439, \\u0436\\u0435\\u043d\\u0441\\u043a\\u0438\\u0439, \\u043d\\u0435\\u0441\\u043e\\u0432\\u0435\\u0440\\u0448\\u0435\\u043d\\u043d\\u044b\\u0439, \\u043f\\u0440\\u0438\\u0447\\u0430\\u0441\\u0442\\u0438\\u0435, \\u0441\\u0442\\u0440\\u0430\\u0434\\u0430\\u0442\\u0435\\u043b\\u044c\\u043d\\u044b\\u0439, \\u043f\\u0440\\u043e\\u0448\\u0435\\u0434\\u0448\\u0435\\u0435, \\u0435\\u0434\\u0438\\u043d\\u0441\\u0442\\u0432\\u0435\\u043d\\u043d\\u043e\\u0435, \\u043f\\u0435\\u0440\\u0435\\u0445\\u043e\\u0434\\u043d\\u044b\\u0439\"\n        ],\n        \"semantic_type\": \"\",\n        \"description\": \"\"\n      }\n    },\n    {\n      \"column\": \"\\u0441\\u0435\\u043c\\u0430\\u043d\\u0442\\u0438\\u043a\\u0430\",\n      \"properties\": {\n        \"dtype\": \"category\",\n        \"num_unique_values\": 196,\n        \"samples\": [\n          \"\\u043f\\u0435\\u0440\\u0435\\u0448\\u043b\\u0442\\u044c (0.568458), \\u0440\\u0430\\u0441\\u043f\\u0435\\u0447\\u0430\\u0442\\u044b\\u0432\\u0430\\u0442\\u044c (0.543631), \\u043d\\u0430\\u0441\\u0442\\u0440\\u043e\\u0447\\u0438\\u0442\\u044c (0.541703), \\u043f\\u0435\\u0440\\u0435\\u0448\\u0441\\u0430\\u0442\\u044c (0.536811), \\u0434\\u043e\\u0448\\u0442\\u044c (0.521947)\",\n          \"\\u044f\\u0442\\u0438 (0.424731), \\u043a\\u0440\\u0435\\u0449\\u0442\\u044c (0.423998)\"\n        ],\n        \"semantic_type\": \"\",\n        \"description\": \"\"\n      }\n    },\n    {\n      \"column\": \"\\u043f\\u043e\\u0445\\u043e\\u0436\\u0438\\u0435 \\u0441\\u043b\\u043e\\u0432\\u0430\",\n      \"properties\": {\n        \"dtype\": \"category\",\n        \"num_unique_values\": 184,\n        \"samples\": [\n          \"\\u044d\\u0432\\u0430\\u043a\\u0443\\u0438\\u0440\\u043e\\u0432\\u0430\\u0442\\u044c\\u0441\\u044f (0.612027), \\u0440\\u0430\\u0437\\u043e\\u0440\\u0443\\u0436\\u0438\\u0442\\u044c (0.576434), \\u0434\\u0435\\u043c\\u043e\\u0431\\u0438\\u043b\\u0438\\u0437\\u043e\\u0432\\u0430\\u0442\\u044c (0.576337), \\u0434\\u0440\\u0430\\u043f\\u0430\\u0442\\u044c (0.564037), \\u0432\\u044b\\u0441\\u0435\\u043b\\u0438\\u0442\\u044c\\u0441\\u044f (0.551084)\",\n          \"\\u0437\\u0430\\u0434\\u043e\\u043a\\u0443\\u043c\\u0435\\u043d\\u0442\\u0438\\u0440\\u043e\\u0432\\u0430\\u0442\\u044c (0.596341), \\u0441\\u0442\\u0440\\u0443\\u043a\\u0442\\u0443\\u0440\\u0438\\u0440\\u043e\\u0432\\u0430\\u0442\\u044c (0.592968), \\u0434\\u0435\\u0442\\u0430\\u043b\\u0438\\u0437\\u0438\\u0440\\u043e\\u0432\\u0430\\u0442\\u044c (0.562012), \\u0444\\u043e\\u0440\\u043c\\u0430\\u043b\\u0438\\u0437\\u043e\\u0432\\u0430\\u0442\\u044c (0.556433), \\u0441\\u0438\\u0441\\u0442\\u0435\\u043c\\u0430\\u0442\\u0438\\u0437\\u0438\\u0440\\u043e\\u0432\\u0430\\u0442\\u044c (0.555501)\"\n        ],\n        \"semantic_type\": \"\",\n        \"description\": \"\"\n      }\n    },\n    {\n      \"column\": \"\\u0441\\u0438\\u043d\\u0442\\u0430\\u043a\\u0441\\u0438\\u0447\\u0435\\u0441\\u043a\\u0438\\u0435 \\u0441\\u0432\\u043e\\u0439\\u0441\\u0442\\u0432\\u0430 \\u0441\\u043b\\u043e\\u0432\\u0430\",\n      \"properties\": {\n        \"dtype\": \"category\",\n        \"num_unique_values\": 754,\n        \"samples\": [\n          \"\\u0441\\u043e\\u0447\\u0438\\u043d\\u0435\\u043d\\u043d\\u044b\\u0439 \\u044d\\u043b\\u0435\\u043c\\u0435\\u043d\\u0442 , \\u0440\\u0430\\u0441\\u043f\\u0440\\u043e\\u0441\\u0442\\u0440\\u0430\\u043d\\u0435\\u043d\\u043d\\u044b\\u0439 \\u043f\\u0440\\u0438\\u0447\\u0430\\u0441\\u0442\\u043d\\u044b\\u0439 \\u043e\\u0431\\u043e\\u0440\\u043e\\u0442, \\u0440\\u0430\\u0441\\u043f\\u0440\\u043e\\u0441\\u0442\\u0440\\u0430\\u043d\\u0435\\u043d\\u043d\\u044b\\u0439 \\u043f\\u0440\\u0438\\u0447\\u0430\\u0441\\u0442\\u043d\\u044b\\u0439 \\u043e\\u0431\\u043e\\u0440\\u043e\\u0442, \\u0433\\u043b\\u0430\\u0433\\u043e\\u043b\\u044c\\u043d\\u0430\\u044f \\u043a\\u043b\\u0430\\u0443\\u0437\\u0430, \\u0435\\u0441\\u0442\\u044c \\u0437\\u0430\\u0432\\u0438\\u0441\\u0438\\u043c\\u044b\\u0435\",\n          \"\\u043a\\u043e\\u043b\\u043e\\u043d\\u0438\\u0437\\u0438\\u0440\\u043e\\u0432\\u0430\\u0442\\u044c\"\n        ],\n        \"semantic_type\": \"\",\n        \"description\": \"\"\n      }\n    },\n    {\n      \"column\": \"\\u0434\\u043e\\u043f. \\u043f\\u0440\\u0438\\u0437\\u043d\\u0430\\u043a\\u0438\",\n      \"properties\": {\n        \"dtype\": \"category\",\n        \"num_unique_values\": 933,\n        \"samples\": [\n          \"alparenth, amark, bmark, brparenth, genderred, numred, casered, norm\",\n          \"\\u0433\\u043b\\u0430\\u0433\\u043e\\u043b, \\u0442\\u0432\\u043e\\u0440\\u0438\\u0442\\u0435\\u043b\\u044c\\u043d\\u044b\\u0439, \\u043d\\u0435\\u0441\\u043e\\u0432\\u0435\\u0440\\u0448\\u0435\\u043d\\u043d\\u044b\\u0439, \\u043c\\u0443\\u0436\\u0441\\u043a\\u043e\\u0439, \\u043f\\u0440\\u0438\\u0447\\u0430\\u0441\\u0442\\u0438\\u0435, \\u0441\\u0442\\u0440\\u0430\\u0434\\u0430\\u0442\\u0435\\u043b\\u044c\\u043d\\u044b\\u0439, \\u043f\\u043e\\u043b\\u043d\\u0430\\u044f \\u0444\\u043e\\u0440\\u043c\\u0430, \\u043d\\u0430\\u0441\\u0442\\u043e\\u044f\\u0449\\u0435\\u0435, \\u0435\\u0434\\u0438\\u043d\\u0441\\u0442\\u0432\\u0435\\u043d\\u043d\\u043e\\u0435, \\u043f\\u0435\\u0440\\u0435\\u0445\\u043e\\u0434\\u043d\\u044b\\u0439\\n\\n\\u0433\\u043b\\u0430\\u0433\\u043e\\u043b, \\u0442\\u0432\\u043e\\u0440\\u0438\\u0442\\u0435\\u043b\\u044c\\u043d\\u044b\\u0439, \\u043d\\u0435\\u0441\\u043e\\u0432\\u0435\\u0440\\u0448\\u0435\\u043d\\u043d\\u044b\\u0439, \\u0441\\u0440\\u0435\\u0434\\u043d\\u0438\\u0439, \\u043f\\u0440\\u0438\\u0447\\u0430\\u0441\\u0442\\u0438\\u0435, \\u0441\\u0442\\u0440\\u0430\\u0434\\u0430\\u0442\\u0435\\u043b\\u044c\\u043d\\u044b\\u0439, \\u043f\\u043e\\u043b\\u043d\\u0430\\u044f \\u0444\\u043e\\u0440\\u043c\\u0430, \\u043d\\u0430\\u0441\\u0442\\u043e\\u044f\\u0449\\u0435\\u0435, \\u0435\\u0434\\u0438\\u043d\\u0441\\u0442\\u0432\\u0435\\u043d\\u043d\\u043e\\u0435, \\u043f\\u0435\\u0440\\u0435\\u0445\\u043e\\u0434\\u043d\\u044b\\u0439\"\n        ],\n        \"semantic_type\": \"\",\n        \"description\": \"\"\n      }\n    },\n    {\n      \"column\": \"\\u0443\\u0434\\u0430\\u0440\\u0435\\u043d\\u0438\\u0435\",\n      \"properties\": {\n        \"dtype\": \"category\",\n        \"num_unique_values\": 390,\n        \"samples\": [\n          \"\\u0433\\u0430-\\u0437\\u0438\\u0301-\\u0440\\u043e-\\u0432\\u0430\\u0301\\u0442\\u044c\",\n          \"\\u0434\\u0435-\\u043c\\u043e-\\u043a\\u0440\\u0430-\\u0442\\u0438-\\u0437\\u0438\\u0301-\\u0440\\u043e-\\u0432\\u0430\\u0442\\u044c\"\n        ],\n        \"semantic_type\": \"\",\n        \"description\": \"\"\n      }\n    },\n    {\n      \"column\": \"\\u043c\\u043e\\u0440\\u0444\\u0435\\u043c\\u043d\\u044b\\u0439 \\u0440\\u0430\\u0437\\u0431\\u043e\\u0440\",\n      \"properties\": {\n        \"dtype\": \"category\",\n        \"num_unique_values\": 390,\n        \"samples\": [\n          \"\\u041a\\u043e\\u0440\\u0435\\u043d\\u044c: -\\u0433\\u0430\\u0437-; \\u0438\\u043d\\u0442\\u0435\\u0440\\u0444\\u0438\\u043a\\u0441: -\\u0438\\u0440-; \\u0441\\u0443\\u0444\\u0444\\u0438\\u043a\\u0441: -\\u043e\\u0432\\u0430; \\u0433\\u043b\\u0430\\u0433\\u043e\\u043b\\u044c\\u043d\\u043e\\u0435 \\u043e\\u043a\\u043e\\u043d\\u0447\\u0430\\u043d\\u0438\\u0435: -\\u0442\\u044c [\\u0422\\u0438\\u0445\\u043e\\u043d\\u043e\\u0432, 1996].\",\n          \"\\u041a\\u043e\\u0440\\u0435\\u043d\\u044c: -\\u0434\\u0435\\u043c-; \\u0438\\u043d\\u0442\\u0435\\u0440\\u0444\\u0438\\u043a\\u0441: -\\u043e-; \\u043a\\u043e\\u0440\\u0435\\u043d\\u044c: -\\u043a\\u0440\\u0430\\u0442-; \\u0438\\u043d\\u0442\\u0435\\u0440\\u0444\\u0438\\u043a\\u0441\\u044b: -\\u0438\\u0437-\\u0438\\u0440-; \\u0441\\u0443\\u0444\\u0444\\u0438\\u043a\\u0441: -\\u043e\\u0432\\u0430; \\u0433\\u043b\\u0430\\u0433\\u043e\\u043b\\u044c\\u043d\\u043e\\u0435 \\u043e\\u043a\\u043e\\u043d\\u0447\\u0430\\u043d\\u0438\\u0435: -\\u0442\\u044c [\\u0422\\u0438\\u0445\\u043e\\u043d\\u043e\\u0432, 1996].\"\n        ],\n        \"semantic_type\": \"\",\n        \"description\": \"\"\n      }\n    }\n  ]\n}"
            }
          },
          "metadata": {},
          "execution_count": 40
        }
      ]
    },
    {
      "cell_type": "code",
      "source": [
        "print(df.shape)\n",
        "print(df.isna().sum())\n",
        "df['контекст'].dropna(inplace=True)"
      ],
      "metadata": {
        "colab": {
          "base_uri": "https://localhost:8080/"
        },
        "id": "4oCAAxB1-Rju",
        "outputId": "3e3d1112-c3ca-424b-87b8-cf4ce4aaf91b"
      },
      "execution_count": 41,
      "outputs": [
        {
          "output_type": "stream",
          "name": "stdout",
          "text": [
            "(31958, 11)\n",
            "основной анализ                     41\n",
            "словоформа                           0\n",
            "лемма                                0\n",
            "контекст                          1152\n",
            "грамматика                           0\n",
            "семантика                           94\n",
            "похожие слова                    13425\n",
            "синтаксические свойства слова        0\n",
            "доп. признаки                      680\n",
            "ударение                             0\n",
            "морфемный разбор                     0\n",
            "dtype: int64\n"
          ]
        }
      ]
    },
    {
      "cell_type": "code",
      "source": [
        "df['ударение'] = df['ударение'].apply(lambda stress: ''.join(re.split(r'[-·]', stress)))\n",
        "df['ударный интерфикс -и́р-'] = df['ударение'].apply(\n",
        "    lambda stress: bool(re.search(r'и́ровать', stress)))\n",
        "df['ударный -а- в суффиксе -ова́-'] = df['ударение'].apply(\n",
        "    lambda stress: bool(re.search(r'ова́ть', stress)))\n",
        "df['опущение/отсутствие -ова- в словоформе'] = df['словоформа'].apply(\n",
        "    lambda word: bool(re.search(r'ова', word)))\n",
        "\n",
        "print(df['ударный -а- в суффиксе -ова́-'].sum(),\n",
        "      df['ударный интерфикс -и́р-'].sum())"
      ],
      "metadata": {
        "colab": {
          "base_uri": "https://localhost:8080/"
        },
        "id": "pvAZoUn_-X8d",
        "outputId": "5ec9ecaf-7b13-4393-fc6b-a2569cb4e93d"
      },
      "execution_count": 42,
      "outputs": [
        {
          "output_type": "stream",
          "name": "stdout",
          "text": [
            "6997 22349\n"
          ]
        }
      ]
    },
    {
      "cell_type": "code",
      "source": [
        "# добавь ударные гласные в объединении в начале\n",
        "stressed_a = df['ударение'].apply(lambda x: a[0] if (a := re.search(r'\\w*изова́ть(ся)?', '')) else '').unique()\n",
        "nonstressed_a = df['ударение'].apply(lambda x: a[0] if (a := re.search(r'\\w*(?<!из)ова́ть(ся)?', '')) else '').unique()\n",
        "print(f'{stressed_a},\\n{nonstressed_a}')"
      ],
      "metadata": {
        "colab": {
          "base_uri": "https://localhost:8080/"
        },
        "id": "9moq_0r2RYDU",
        "outputId": "d94ab6c1-70f9-425f-cafd-56d4c5ef63e4"
      },
      "execution_count": 43,
      "outputs": [
        {
          "output_type": "stream",
          "name": "stdout",
          "text": [
            "[''],\n",
            "['']\n"
          ]
        }
      ]
    },
    {
      "cell_type": "code",
      "source": [
        "stressed_iz = df['ударение'].apply(lambda x: a[0] if (a := re.search(r'\\w*и́зовать(ся)?', x)) else '').unique()\n",
        "nonstressed_iz = df['ударение'].apply(lambda x: a[0] if (a := re.search(r'\\w*изовать(ся)?', x)) else '').unique()\n",
        "print(f'{stressed_iz},\\n{nonstressed_iz}')"
      ],
      "metadata": {
        "colab": {
          "base_uri": "https://localhost:8080/"
        },
        "id": "RANqE-L2VM1p",
        "outputId": "c428be8b-6b4f-40bc-ef9e-20d7eebe3b45"
      },
      "execution_count": 44,
      "outputs": [
        {
          "output_type": "stream",
          "name": "stdout",
          "text": [
            "[''],\n",
            "['']\n"
          ]
        }
      ]
    },
    {
      "cell_type": "code",
      "source": [
        "stressed_ir = df['ударение'].apply(lambda x: a[0] if (a := re.search(r'\\w+и́ровать(ся)*', x)) else '').unique()\n",
        "nonstressed_ir = df['ударение'].apply(lambda x: a[0] if (a := re.search(r'\\w*ирова́ть(ся)*', x)) else '').unique()\n",
        "nonstressed_ir2 = df['ударение'].apply(lambda x: a[0] if (a := re.search(r'\\w*ировать(ся)*', x)) else '').unique()\n",
        "print(f'{stressed_ir},\\n{nonstressed_ir},\\n{nonstressed_ir2}')"
      ],
      "metadata": {
        "colab": {
          "base_uri": "https://localhost:8080/"
        },
        "id": "xOXXGrg-b4EN",
        "outputId": "66b9bcf6-d6bc-4a17-80bd-73160fa40987"
      },
      "execution_count": 45,
      "outputs": [
        {
          "output_type": "stream",
          "name": "stdout",
          "text": [
            "['бюрократизи́ровать' 'вакууми́ровать' 'вакцини́ровать' '' 'визи́ровать'\n",
            " 'вулканизи́ровать' 'газифици́ровать' 'вульгаризи́ровать'\n",
            " 'гаранти́роваться' 'ганти́ровать' 'гаранти́ровать' 'германизи́ровать'\n",
            " 'гарни́ровать' 'гектографи́ровать' 'гомогенизи́ровать'\n",
            " 'госпитализи́ровать' 'градуи́ровать' 'гудрони́ровать' 'дати́ровать'\n",
            " 'девальви́ровать' 'дегенери́ровать' 'дегази́ровать' 'дегради́ровать'\n",
            " 'дезерти́ровать' 'дезавуи́ровать' 'дезактиви́ровать' 'дезинформи́ровать'\n",
            " 'дезориенти́ровать' 'декласси́роваться' 'декоди́ровать' 'деклари́ровать'\n",
            " 'декори́ровать' 'демаски́ровать' 'демократизи́ровать' 'делеги́ровать'\n",
            " 'денатури́ровать' 'денационализи́ровать' 'депорти́ровать'\n",
            " 'дестабилизи́ровать' 'деформи́роваться' 'дешифри́ровать'\n",
            " 'диагности́ровать' 'дислоци́ровать' 'диспони́ровать' 'дози́ровать'\n",
            " 'дифференци́ровать' 'дифференци́роваться' 'дроссели́ровать'\n",
            " 'дрени́ровать' 'документи́ровать' 'европеизи́роваться' 'дубли́роваться'\n",
            " 'дубли́ровать' 'идентифици́ровать' 'инвентаризи́ровать' 'инверти́ровать'\n",
            " 'инвести́ровать' 'индустриализи́ровать' 'иниции́ровать' 'инкасси́ровать'\n",
            " 'инкуби́ровать' 'инкримини́ровать' 'инкрусти́ровать' 'инкорпори́ровать'\n",
            " 'интерпелли́ровать' 'интерполи́ровать' 'интони́ровать' 'интерфери́ровать'\n",
            " 'инфильтри́ровать' 'информи́ровать' 'инфици́ровать' 'инъеци́ровать'\n",
            " 'ионизи́ровать' 'йоти́ровать' 'кальки́ровать' 'кальцини́ровать'\n",
            " 'канонизи́ровать' 'капитули́ровать' 'капти́ровать' 'карбонизи́ровать'\n",
            " 'картографи́ровать' 'касси́ровать' 'кастри́ровать' 'катализи́ровать'\n",
            " 'каталогизи́ровать' 'катапульти́ровать' 'квалифици́ровать' 'коди́ровать'\n",
            " 'кодифици́ровать' 'колонизи́ровать' 'компенси́ровать'\n",
            " 'конвейеризи́ровать' 'конверти́ровать' 'консолиди́роваться'\n",
            " 'конденси́ровать' 'коопери́ровать' 'коопти́ровать' 'корроди́ровать'\n",
            " 'коти́ровать' 'креми́ровать' 'леги́ровать' 'ликвиди́ровать'\n",
            " 'лимити́ровать' 'логарифми́ровать' 'локализи́ровать' 'манифести́ровать'\n",
            " 'лорни́ровать' 'масси́ровать' 'машинизи́ровать' 'мелиори́ровать'\n",
            " 'мини́ровать' 'металлизи́ровать' 'механизи́ровать' 'модернизи́ровать'\n",
            " 'модифици́ровать' 'мотиви́ровать' 'мумифици́роваться' 'мумифици́ровать'\n",
            " 'национализи́ровать' 'нитрифици́ровать' 'нокаути́ровать'\n",
            " 'нуллифици́ровать' 'октрои́ровать' 'оптимизи́ровать' 'ориенти́ровать'\n",
            " 'пакети́ровать' 'пальпи́ровать' 'пасси́ровать' 'переадминистри́ровать'\n",
            " 'педализи́ровать' 'патини́ровать' 'передислоци́ровать' 'перекоди́ровать'\n",
            " 'переориенти́ровать' 'переориенти́роваться' 'переформули́ровать'\n",
            " 'перфори́ровать' 'перифрази́ровать' 'перефрази́ровать' 'постули́ровать'\n",
            " 'потенци́ровать' 'препари́ровать' 'проклами́ровать' 'профани́ровать'\n",
            " 'разгерметизи́ровать' 'пульверизи́ровать' 'разгерметизи́роваться'\n",
            " 'размини́ровать' 'ратифици́ровать' 'расконсерви́ровать' 'регенери́ровать'\n",
            " 'реаними́ровать' 'регресси́ровать' 'редуци́ровать' 'реквизи́ровать'\n",
            " 'рекрути́ровать' 'реконструи́ровать' 'ректифици́ровать' 'репатрии́ровать'\n",
            " 'реплици́ровать' 'реформи́ровать' 'реэвакуи́ровать' 'роботизи́ровать'\n",
            " 'романизи́ровать' 'русифици́ровать' 'сальди́ровать' 'сани́ровать'\n",
            " 'санкциони́ровать' 'сатини́ровать' 'секуляризи́ровать' 'сепари́ровать'\n",
            " 'сенсибилизи́ровать' 'синдици́ровать' 'синтези́ровать' 'синкопи́ровать'\n",
            " 'синхронизи́ровать' 'скальпи́ровать' 'скандализи́ровать'\n",
            " 'солидаризи́роваться' 'специализи́ровать' 'специализи́роваться'\n",
            " 'стабилизи́ровать' 'стабилизи́роваться' 'стандартизи́ровать'\n",
            " 'стенографи́ровать' 'стимули́ровать' 'сублими́ровать' 'сульфи́ровать'\n",
            " 'сумми́ровать' 'телефонизи́ровать' 'телефони́ровать' 'теплофици́ровать'\n",
            " 'тиражи́ровать' 'типизи́ровать' 'тонизи́ровать' 'торпеди́ровать'\n",
            " 'травми́ровать' 'травми́роваться' 'транскриби́ровать' 'транспорти́ровать'\n",
            " 'трансформи́ровать' 'тремоли́ровать' 'трести́ровать' 'туши́ровать'\n",
            " 'унифици́ровать' 'утилизи́ровать' 'утри́ровать' 'фаворизи́ровать'\n",
            " 'феминизи́ровать' 'феминизи́роваться' 'фикси́ровать' 'финиши́ровать'\n",
            " 'форси́ровать' 'франки́ровать' 'фраппи́ровать' 'фтори́ровать'\n",
            " 'химизи́ровать' 'христианизи́ровать' 'хроми́ровать' 'хронометри́ровать'\n",
            " 'центри́ровать' 'центрифуги́ровать' 'шоки́ровать' 'штабели́ровать'\n",
            " 'эволюциони́ровать' 'экрани́роваться' 'эксгуми́ровать' 'экспони́ровать'\n",
            " 'экспорти́ровать' 'экспроприи́ровать' 'экстраполи́ровать'\n",
            " 'электрифици́ровать' 'эмигри́ровать' 'эмити́ровать' 'эмульги́ровать'\n",
            " 'эпати́ровать' 'эреги́ровать' 'эроди́ровать' 'эскамоти́ровать'\n",
            " 'эскорти́ровать' 'этимологизи́ровать' 'абони́роваться' 'аборти́ровать'\n",
            " 'абсолютизи́ровать' 'абсолютизи́роваться' 'абсорби́ровать'\n",
            " 'абстраги́ровать' 'автоматизи́ровать' 'абстраги́роваться'\n",
            " 'авторизи́ровать' 'агглютини́ровать' 'агрегати́ровать' 'адапти́ровать'\n",
            " 'агреги́ровать' 'адапти́роваться' 'аккомоди́ровать' 'азоти́ровать'\n",
            " 'аккумули́ровать' 'активи́ровать' 'активи́роваться' 'активизи́роваться'\n",
            " 'акти́ровать' 'алкоголизи́ровать' 'алгоритмизи́ровать' 'амальгами́ровать'\n",
            " 'алкоголизи́роваться' 'американизи́роваться' 'ампути́ровать'\n",
            " 'ангажи́ровать' 'анатоми́ровать' 'аннекси́ровать' 'англизи́ровать'\n",
            " 'аннигили́ровать' 'анноти́ровать' 'аннули́ровать' 'анонси́ровать'\n",
            " 'апелли́ровать' 'аргументи́ровать' 'ассенизи́ровать' 'ассисти́ровать'\n",
            " 'ассимили́ровать' 'ассоции́ровать' 'аффекти́ровать' 'асфальти́ровать'\n",
            " 'аэри́ровать' 'бетони́ровать' 'блоки́ровать' 'брикети́ровать'\n",
            " 'бойкоти́ровать' 'брони́ровать' 'бюрократизи́роваться'],\n",
            "['' 'глазирова́ть' 'гофрирова́ть' 'гравирова́ть' 'костюмирова́ть'\n",
            " 'меблирова́ть' 'никелирова́ть' 'плакирова́ть' 'премирова́ть'\n",
            " 'ретирова́ться' 'экипирова́ть'],\n",
            "['']\n"
          ]
        }
      ]
    },
    {
      "cell_type": "code",
      "source": [
        "stress_vars = []\n",
        "stress_vars.extend(stressed_a)\n",
        "stress_vars.extend(nonstressed_a)\n",
        "stress_vars.extend(stressed_iz)\n",
        "stress_vars.extend(nonstressed_iz)\n",
        "stress_vars.extend(stressed_ir)\n",
        "stress_vars.extend(nonstressed_ir)\n",
        "stress_vars.extend(nonstressed_ir2)\n",
        "set(df['ударение']) ^ set(filter(bool, stress_vars))"
      ],
      "metadata": {
        "colab": {
          "base_uri": "https://localhost:8080/"
        },
        "id": "SwH2k7obea60",
        "outputId": "189c5b75-666d-4510-fc04-73f40fb2f911"
      },
      "execution_count": 46,
      "outputs": [
        {
          "output_type": "execute_result",
          "data": {
            "text/plain": [
              "{'авторизова́ть',\n",
              " 'авторизова́ться',\n",
              " 'адресова́ть',\n",
              " 'адресова́ться',\n",
              " 'аккредитова́ться',\n",
              " 'акцентова́ть',\n",
              " 'акцептова́ть',\n",
              " 'арендова́ть',\n",
              " 'ассигнова́ть',\n",
              " 'атакова́ть',\n",
              " 'аттестова́ть',\n",
              " 'бежа́ть (дореформ. бѣжа́ть)',\n",
              " 'венча́ть',\n",
              " 'вокализова́ть',\n",
              " 'гази́рова́ть',\n",
              " 'гармонизова́ть',\n",
              " 'дарова́ть',\n",
              " 'дезорганизова́ть',\n",
              " 'демобилизова́ться',\n",
              " 'денатурализова́ться',\n",
              " 'децентрализова́ть',\n",
              " 'дешифрова́ть',\n",
              " 'досле́довать',\n",
              " 'жени́ть',\n",
              " 'иллюминова́ть',\n",
              " 'иммобилизова́ть',\n",
              " 'инвентаризова́ть',\n",
              " 'инструментова́ть',\n",
              " 'ионизова́ть',\n",
              " 'испо́льзовать',\n",
              " 'испове́доваться',\n",
              " 'колонизова́ть',\n",
              " 'компьютеризова́ть',\n",
              " 'контрассигнова́ть',\n",
              " 'контратакова́ть',\n",
              " 'конфирмова́ть',\n",
              " 'конфискова́ть',\n",
              " 'крести́ть',\n",
              " 'крести́ться',\n",
              " 'легализова́ть',\n",
              " 'линчева́ть',\n",
              " 'локализова́ть',\n",
              " 'локализова́ться',\n",
              " 'материализова́ть',\n",
              " 'милитаризова́ть',\n",
              " 'минова́ть',\n",
              " 'мо́лвить',\n",
              " 'модернизова́ть',\n",
              " 'насле́довать',\n",
              " 'натурализова́ть',\n",
              " 'натурализова́ться',\n",
              " 'нейтрализова́ть',\n",
              " 'норми́рова́ть',\n",
              " 'обеща́ть',\n",
              " 'обеща́ться',\n",
              " 'опосре́довать',\n",
              " 'опро́бовать',\n",
              " 'организова́ть',\n",
              " 'организова́ться',\n",
              " 'оркестрова́ть',\n",
              " 'парализова́ть',\n",
              " 'пастеризова́ть',\n",
              " 'патентова́ть',\n",
              " 'полони́ть',\n",
              " 'поляризова́ть',\n",
              " 'презентова́ть',\n",
              " 'пропове́дать',\n",
              " 'ра́нить',\n",
              " 'реализова́ть',\n",
              " 'реализова́ться',\n",
              " 'ревизова́ть',\n",
              " 'рекомендова́ть',\n",
              " 'салютова́ть',\n",
              " 'собо́ровать',\n",
              " 'согласова́ться',\n",
              " 'солидаризова́ться',\n",
              " 'сопу́тствовать',\n",
              " 'сочета́ть',\n",
              " 'сочета́ться',\n",
              " 'стартова́ть',\n",
              " 'стерилизова́ть',\n",
              " 'театрализова́ть',\n",
              " 'формализова́ть',\n",
              " 'централизова́ть',\n",
              " 'цивилизова́ть',\n",
              " 'цивилизова́ться',\n",
              " 'четвертова́ть',\n",
              " 'шарова́ть',\n",
              " 'шлюзова́ть',\n",
              " 'электризова́ться'}"
            ]
          },
          "metadata": {},
          "execution_count": 46
        }
      ]
    },
    {
      "cell_type": "code",
      "source": [
        "from itertools import chain\n",
        "\n",
        "df['приставка 1'] = df['морфемный разбор'].apply(\n",
        "    lambda word: morpheme[0] if (\n",
        "        morpheme := re.search(r'(?<=приставка:\\s)\\w+(?=-;)',\n",
        "                              word, flags=re.IGNORECASE)) else '')\n",
        "df['корень 1'] = df['морфемный разбор'].apply(\n",
        "    lambda word: morpheme[0] if (\n",
        "        morpheme := re.search(r'(?<=корень:\\s-)\\w+(?=-;)',\n",
        "                              word, flags=re.IGNORECASE)) else '')\n",
        "\n",
        "df['морфемный разбор'] = df['морфемный разбор'].apply(\n",
        "     lambda word: dict(morpheme.lower().strip().split(': ') for morpheme in morphemes)\n",
        "     if (morphemes := word.split('; ')) else '')"
      ],
      "metadata": {
        "id": "K4cUDvF_IUf2"
      },
      "execution_count": 47,
      "outputs": []
    },
    {
      "cell_type": "code",
      "source": [
        "# pd.json_normalize(df['морфемный разбор'])"
      ],
      "metadata": {
        "id": "ILWeMNNFGHMB"
      },
      "execution_count": 48,
      "outputs": []
    },
    {
      "cell_type": "code",
      "source": [
        "interfixes = ['интерфикс 1', 'интерфикс 2']\n",
        "suffixes = ['суффикс 1', 'суффикс 2']\n",
        "\n",
        "df_interfixes = pd.json_normalize(df['морфемный разбор'].apply(\n",
        "     lambda analysis: dict(zip(interfixes, chain.from_iterable(\n",
        "         analysis.get(string, '').split('-')[1:-1] for string in\n",
        "         analysis.keys() if 'интерфикс' in string)))))\n",
        "\n",
        "df_suffixes = pd.json_normalize(df['морфемный разбор'].apply(\n",
        "     lambda analysis: dict(zip(suffixes, chain.from_iterable(\n",
        "         analysis.get(string, '').split('-')[1:] for string in\n",
        "         analysis.keys() if 'суффикс' in string)))))"
      ],
      "metadata": {
        "id": "Cxbd9wCuF9KE"
      },
      "execution_count": 49,
      "outputs": []
    },
    {
      "cell_type": "code",
      "source": [
        "df = df.merge(df_interfixes, left_index=True, right_index=True)\n",
        "df = df.merge(df_suffixes, left_index=True, right_index=True)"
      ],
      "metadata": {
        "id": "627n2r0J1guU"
      },
      "execution_count": 50,
      "outputs": []
    },
    {
      "cell_type": "code",
      "source": [
        "df['интерфикс 1'].fillna('', inplace=True)\n",
        "df['интерфикс 2'].fillna('', inplace=True)\n",
        "df['суффикс 1'].fillna('', inplace=True)\n",
        "df['суффикс 2'].fillna('', inplace=True)\n",
        "\n",
        "mask = (df['суффикс 1'] == 'ирова?')\n",
        "df.loc[mask, 'интерфикс 1'] = 'ир'\n",
        "df.loc[mask, 'суффикс 1'] = 'ова'\n",
        "\n",
        "print(f'''Приставки:\n",
        "  1) {df['приставка 1'].unique()}''')\n",
        "print(f'''Корни:\n",
        "  1) {df['корень 1'].unique()}''')\n",
        "print(f'''Интерфиксы:\n",
        "  1) {df['интерфикс 1'].unique()},\n",
        "  2) {df['интерфикс 2'].unique()}''')\n",
        "print(f'''Суффиксы:\n",
        "  1) {df['суффикс 1'].unique()},\n",
        "  2) {df['суффикс 2'].unique()}''')"
      ],
      "metadata": {
        "colab": {
          "base_uri": "https://localhost:8080/"
        },
        "id": "k1HYGGIgzXNa",
        "outputId": "910c81f0-2107-4689-e8b2-e88c24078710"
      },
      "execution_count": 51,
      "outputs": [
        {
          "output_type": "stream",
          "name": "stdout",
          "text": [
            "Приставки:\n",
            "  1) ['' 'де' 'дез' 'до' 'им' 'интер' 'ин' 'ис' 'контр' 'о' 'пере' 'раз' 'рас'\n",
            " 'ре' 'со' 'экс' 'экстра' 'э' 'аб' 'аг' 'ан']\n",
            "Корни:\n",
            "  1) ['бюрократ' 'вакуум' 'вакцин' 'вен' 'вокал' 'виз' 'вулкан' 'газ' 'вульгар'\n",
            " 'гармон' 'гарант' 'гант' 'герман' 'гарнир' 'гект' 'гом' 'глаз' 'госпитал'\n",
            " 'гофр' 'грав' 'граду' 'дар' 'гудрон' 'дат' 'вальв' 'генер' 'деград'\n",
            " 'дезертир' 'дезаву' 'актив' 'информ' 'орган' 'ориент' 'класс' 'код'\n",
            " 'деклар' 'декор' 'маск' 'мобил' 'дем' 'делег' 'натур' 'наци' 'депорт'\n",
            " 'стабил' 'форм' 'центр' 'шифр' 'диагност' 'дислоц' 'диспон' 'доз'\n",
            " 'дифференц' 'след' 'дроссел' 'дрен' 'документ' 'европ' 'дубл' 'жен'\n",
            " 'иллюмин' 'идент' 'инвентар' 'инверт' 'инвест' 'индустри' 'иници'\n",
            " 'инкасс' 'инкуб' 'инкримин' 'инкруст' 'инкорпор' 'интерпелл' 'инструмент'\n",
            " 'пол' 'тон' 'интерфер' 'фильтр' 'инфиц' 'инъец' 'ион' 'йот' 'исповед'\n",
            " 'польз' 'кальк' 'кальц' 'канон' 'капитул' 'капт' 'карбон' 'карт' 'касс'\n",
            " 'кастр' 'катализ' 'каталог' 'катапульт' 'квал' 'колон' 'компенс'\n",
            " 'компьютер' 'конвейер' 'конверт' 'консолид' 'конденс' 'атак'\n",
            " 'контрассигн' 'конфирм' 'конфиск' 'коопер' 'коопт' 'коррод' 'костюм'\n",
            " 'кот' 'крем' 'крест' 'лег' 'легал' 'ликвид' 'линч' 'лимит' 'логарифм'\n",
            " 'локал' 'манифест' 'лорн' 'масс' 'матери' 'машин' 'мебл' 'мелиор' 'мин'\n",
            " 'металл' 'механ' 'милитар' 'модерн' 'мод' 'молв' 'мотив' 'мум' 'наслед'\n",
            " 'нитр' 'нейтрал' 'нокаут' 'никел' 'нулл' 'норм' 'обещ' 'октро' 'оптим'\n",
            " 'проб' 'посред' 'оркестр' 'пакет' 'пальп' 'парализ' 'пасс' 'пастер'\n",
            " 'патент' 'администр' 'педал' 'патин' 'формул' 'перфор' 'пери' 'фраз'\n",
            " 'плак' 'полон' 'постул' 'потенц' 'прем' 'презент' 'препар' 'проклам'\n",
            " 'проповеда' 'профан' 'гермет' 'пульвер' 'ран' 'рат' 'реал' 'консерв'\n",
            " 'регенер' 'ревиз' 'реаним' 'гресс' 'редуц' 'реквиз' 'рекоменд' 'рекрут'\n",
            " 'реконстру' 'рект' 'патри' 'реплиц' 'ретир' 'реформ' 'эваку' 'робот'\n",
            " 'роман' 'рус' 'сальд' 'сан' 'салют' 'санкци' 'сатин' 'секуляр' 'сепар'\n",
            " 'сенсибил' 'синдиц' 'синтез' 'синкоп' 'син' 'скальп' 'скандал' 'собор'\n",
            " 'соглас' 'солидар' 'пут' 'сочета' 'специал' 'стандарт' 'старт' 'стен'\n",
            " 'стимул' 'стерил' 'сублим' 'сульф' 'сумм' 'теле' 'театр' 'тепл' 'тираж'\n",
            " 'тип' 'торпед' 'травм' 'транскриб' 'транспорт' 'трансформ' 'тремол'\n",
            " 'трест' 'туш' 'ун' 'утил' 'утр' 'фавор' 'фемин' 'фикс' 'финиш' 'форс'\n",
            " 'франк' 'фрапп' 'фтор' 'хим' 'христ' 'хром' 'хрон' 'цивил' 'чет' 'шар'\n",
            " 'шлюз' 'шок' 'штабел' 'эволюци' 'экип' 'экран' 'гум' 'экспон' 'порт'\n",
            " 'экспропри' 'электр' 'мигр' 'эмит' 'эмульг' 'эпат' 'эрег' 'эрод'\n",
            " 'эскамот' 'эскорт' 'этим' 'абон' 'аборт' 'абсолют' 'сорб' 'абстраг'\n",
            " 'автомат' 'автор' 'глютин' 'агрегат' 'адапт' 'агрег' 'адрес' 'аккомод'\n",
            " 'азот' 'аккредит' 'аккумул' 'акт' 'акцент' 'алкогол' 'акцепт' 'алгоритм'\n",
            " 'амальгам' 'америк' 'ампут' 'ангаж' 'анатом' 'аннекс' 'англ' 'нигил'\n",
            " 'аннот' 'аннул' 'анонс' 'апелл' 'аренд' 'аргумент' 'ассен' 'ассигн'\n",
            " 'ассист' 'ассимил' 'ассоци' 'аффект' 'асфальт' 'аттест' 'аэр' 'беж'\n",
            " 'бетон' 'блок' 'брикет' 'бойкот' 'брон']\n",
            "Интерфиксы:\n",
            "  1) ['из' 'ир' '' 'ифиц' 'о' 'он' 'е' 'ин' 'в' 'ан'],\n",
            "  2) ['ир' '' 'из' 'фиц']\n",
            "Суффиксы:\n",
            "  1) ['ова' 'ч' 'ир' 'и' 'ева' 'а' '' 'ств' 'ерт'],\n",
            "  2) ['' 'а' 'ова']\n"
          ]
        }
      ]
    },
    {
      "cell_type": "code",
      "source": [
        "not_empty_prefix = df[df['приставка 1'].str.strip() != '']\n",
        "not_empty_2_interfix = df[df['интерфикс 2'].str.strip() != '']\n",
        "not_empty_2_suffix = df[df['суффикс 2'].str.strip() != '']\n",
        "\n",
        "not_empty_prefix['лемма'].unique(), not_empty_2_interfix['лемма'].unique(), not_empty_2_suffix['лемма'].unique()"
      ],
      "metadata": {
        "colab": {
          "base_uri": "https://localhost:8080/"
        },
        "id": "luQR7ZORLfDT",
        "outputId": "c19b3bf7-183b-4b46-db3b-62b91bfbd167"
      },
      "execution_count": 52,
      "outputs": [
        {
          "output_type": "execute_result",
          "data": {
            "text/plain": [
              "(array(['девальвировать', 'дегенерировать', 'дегазировать',\n",
              "        'дезактивировать', 'дезинформировать', 'дезорганизовать',\n",
              "        'дезориентировать', 'деклассироваться', 'декодировать',\n",
              "        'демаскировать', 'демобилизоваться', 'денатурализоваться',\n",
              "        'денатурировать', 'денационализировать', 'дестабилизировать',\n",
              "        'деформироваться', 'децентрализовать', 'дешифрировать',\n",
              "        'дешифровать', 'доследовать', 'иммобилизовать', 'интерполировать',\n",
              "        'интонировать', 'инфильтрировать', 'использовать',\n",
              "        'контратаковать', 'опробовать', 'опосредовать',\n",
              "        'переадминистрировать', 'передислоцировать', 'перекодировать',\n",
              "        'переориентировать', 'переориентироваться', 'переформулировать',\n",
              "        'перефразировать', 'разгерметизировать', 'разгерметизироваться',\n",
              "        'разминировать', 'расконсервировать', 'регрессировать',\n",
              "        'репатриировать', 'реэвакуировать', 'сопутствовать',\n",
              "        'эксгумировать', 'экспортировать', 'экстраполировать',\n",
              "        'эмигрировать', 'абсорбировать', 'агглютинировать',\n",
              "        'аннигилировать'], dtype=object),\n",
              " array(['бюрократизировать', 'вулканизировать', 'газифицировать',\n",
              "        'вульгаризировать', 'германизировать', 'гомогенизировать',\n",
              "        'госпитализировать', 'демократизировать', 'денационализировать',\n",
              "        'дестабилизировать', 'европеизироваться', 'идентифицировать',\n",
              "        'инвентаризировать', 'индустриализировать', 'ионизировать',\n",
              "        'кальцинировать', 'канонизировать', 'карбонизировать',\n",
              "        'каталогизировать', 'квалифицировать', 'кодифицировать',\n",
              "        'колонизировать', 'конвейеризировать', 'локализировать',\n",
              "        'машинизировать', 'металлизировать', 'механизировать',\n",
              "        'модернизировать', 'модифицировать', 'мумифицироваться',\n",
              "        'мумифицировать', 'национализировать', 'нитрифицировать',\n",
              "        'нуллифицировать', 'оптимизировать', 'педализировать',\n",
              "        'разгерметизировать', 'пульверизировать', 'разгерметизироваться',\n",
              "        'ратифицировать', 'ректифицировать', 'роботизировать',\n",
              "        'романизировать', 'русифицировать', 'санкционировать',\n",
              "        'секуляризировать', 'сенсибилизировать', 'синхронизировать',\n",
              "        'скандализировать', 'солидаризироваться', 'специализировать',\n",
              "        'специализироваться', 'стабилизировать', 'стабилизироваться',\n",
              "        'стандартизировать', 'телефонизировать', 'теплофицировать',\n",
              "        'типизировать', 'тонизировать', 'унифицировать', 'утилизировать',\n",
              "        'фаворизировать', 'феминизировать', 'феминизироваться',\n",
              "        'химизировать', 'христианизировать', 'эволюционировать',\n",
              "        'электрифицировать', 'этимологизировать', 'абсолютизировать',\n",
              "        'абсолютизироваться', 'автоматизировать', 'авторизировать',\n",
              "        'активизироваться', 'алкоголизировать', 'алгоритмизировать',\n",
              "        'алкоголизироваться', 'американизироваться', 'англизировать',\n",
              "        'ассенизировать', 'бюрократизироваться'], dtype=object),\n",
              " array(['венчать', 'дезориентировать', 'переориентировать',\n",
              "        'сопутствовать', 'четвертовать'], dtype=object))"
            ]
          },
          "metadata": {},
          "execution_count": 52
        }
      ]
    },
    {
      "cell_type": "code",
      "source": [
        "lemma_wordform = np.stack([df['лемма'], df['словоформа'].str.lower()], axis=1).tolist()\n",
        "df['словоформа - стемма'] = [pair[1].replace(pseudo_ending, '') if (pseudo_ending := os.path.commonprefix(pair)) else '' for pair in lemma_wordform]\n",
        "df['словоформа - стемма'] =  df['словоформа - стемма'].apply(lambda x: 'ть' if not x else x)\n",
        "\n",
        "part_gerund_suf = ['енн', 'ущ', 'ющ', 'ащ', 'ящ', 'ом', 'ем', 'им', 'вш', 'ши', 'нн', 'т', 'а', 'я', 'в', 'ш']\n",
        "suf_4 = ['н', 'в', 'щ', 'ш']\n",
        "\n",
        "df['суффикс 3'] = df['словоформа - стемма'].apply(lambda x: next((x[:len(suf)] for suf in part_gerund_suf if x.startswith(suf)), '').strip())\n",
        "df['словоформа - стемма'] =  df['словоформа - стемма'].apply(lambda x: next((x[len(suf):] for suf in part_gerund_suf if x.startswith(suf)), '').strip())\n",
        "df['окончание'] =  df['словоформа - стемма'].apply(lambda x: x if not x.endswith('ся') or not x.endswith('сь') else x[:-2])\n",
        "df.drop('словоформа - стемма', axis=1, inplace=True)\n",
        "\n",
        "# в перспективе можно выделить суффиксы дее-/причастий, постфиксы, флексию, обучить модель на морфемные разборы.\n",
        "print(df['суффикс 3'].unique())\n",
        "print(df['окончание'].unique())"
      ],
      "metadata": {
        "id": "wviRNnPfMRrj",
        "colab": {
          "base_uri": "https://localhost:8080/"
        },
        "outputId": "fc0c6484-9556-4ee1-de60-0e2d624749eb"
      },
      "execution_count": 53,
      "outputs": [
        {
          "output_type": "stream",
          "name": "stdout",
          "text": [
            "['' 'т' 'нн' 'вш' 'в' 'я' 'ш' 'а' 'ющ' 'ем' 'енн' 'ящ' 'ом']\n",
            "['' 'ь' 'ых' 'ую' 'ой' 'ые' 'ого' 'ыми' 'ым' 'ому' 'ый' 'ая' 'ом' 'ое'\n",
            " 'аго' 'его' 'ий' 'ыя' 'ою' 'ейся' 'ей' 'ем' 'ие' 'ему' 'их' 'им' 'ими'\n",
            " 'ись' 'ийся' 'емуся' 'ихся' 'ее' 'ееся' 'иеся' 'т' 'ымъ' 'ыхъ' 'омъ' 'ъ'\n",
            " 'тируются' 'ься' 'имся' 'уюся' 'егося' 'е' 'а' 'емся' 'аяся' 'улирует'\n",
            " 'имися' 'о']\n"
          ]
        }
      ]
    },
    {
      "cell_type": "code",
      "source": [
        "df['похожие слова'] = df.apply(lambda row: row['семантика'] if isinstance(row['семантика'], str) and re.search(r'\\(0.\\d+\\)', row['семантика']) else row['похожие слова'], axis=1)\n",
        "df['семантика'].fillna('', inplace=True)\n",
        "df['семантика'] = df['семантика'].apply(lambda x: '' if re.search(r'\\(0.\\d+\\)', x) else x)\n",
        "df['синтаксические свойства слова'] = df.apply(lambda row: '' if row['синтаксические свойства слова'] == row['лемма'] else row['синтаксические свойства слова'], axis=1)\n",
        "df['доп. признаки'] = df.apply(lambda row: '' if isinstance(row['доп. признаки'], str) and row['доп. признаки'].startswith('глагол, ') else row['доп. признаки'], axis=1)\n",
        "df['похожие слова'].fillna('', inplace=True)"
      ],
      "metadata": {
        "id": "SrNWFLjkMWpv"
      },
      "execution_count": 54,
      "outputs": []
    },
    {
      "cell_type": "code",
      "source": [
        "prefix_pattern = r'{prefix}{root}\\w*овывать'\n",
        "\n",
        "imp_pairs = df.apply(lambda row: re.search(\n",
        "    prefix_pattern.format(prefix=row['приставка 1'], root=row['корень 1']),\n",
        "    row['похожие слова']).group() if\n",
        "                      re.search(prefix_pattern.format(prefix=row['приставка 1'],\n",
        "                                                      root=row['корень 1']),\n",
        "                                row['похожие слова']) else '', axis=1)\n",
        "imp_pairs.unique()"
      ],
      "metadata": {
        "colab": {
          "base_uri": "https://localhost:8080/"
        },
        "id": "0SuU33FQYLik",
        "outputId": "72840ad2-4afc-4450-943c-8ab5ad58cbb5"
      },
      "execution_count": 55,
      "outputs": [
        {
          "output_type": "execute_result",
          "data": {
            "text/plain": [
              "array(['', 'конфисковывать', 'организовывать', 'реализовывать',\n",
              "       'ассигновывать'], dtype=object)"
            ]
          },
          "metadata": {},
          "execution_count": 55
        }
      ]
    },
    {
      "cell_type": "code",
      "source": [
        "prefix_pattern = r'(про|за|с|со|от|ото|на|по|вы|о|раз|разо|рас|об|обо|у){root}\\w+ть'\n",
        "\n",
        "perf_pairs = df.apply(lambda row: re.search(\n",
        "    prefix_pattern.format(root=row['корень 1']),\n",
        "    row['похожие слова']).group() if\n",
        "                      re.search(prefix_pattern.format(root=row['корень 1']),\n",
        "                                row['похожие слова']) else '', axis=1)\n",
        "perf_pairs.unique()"
      ],
      "metadata": {
        "colab": {
          "base_uri": "https://localhost:8080/"
        },
        "id": "amyTrpJMchK9",
        "outputId": "33fd191e-6bf0-4d32-f5f3-da85a1bd9887"
      },
      "execution_count": 56,
      "outputs": [
        {
          "output_type": "execute_result",
          "data": {
            "text/plain": [
              "array(['', 'завизировать', 'награвировать', 'отградуировать',\n",
              "       'закодировать', 'продекларировать', 'замаскировать',\n",
              "       'расшифровывать', 'расшифровать', 'задокументировать', 'поженить',\n",
              "       'проинформировать', 'спользовать', 'скомпенсировать',\n",
              "       'помассировать', 'омеблировать', 'заминировать', 'промолвить',\n",
              "       'пообещать', 'спробовать', 'опосредствовать', 'сорганизовать',\n",
              "       'запатентовать', 'сформулировать', 'отпрепарировать',\n",
              "       'разгерметизировать', 'законсервировать', 'прогрессировать',\n",
              "       'порекомендовать', 'отретировать', 'отсалютовать', 'особоровать',\n",
              "       'застенографировать', 'простерилизовать', 'протелеграфировать',\n",
              "       'растиражировать', 'зафиксировать', 'заарендовать',\n",
              "       'заасфальтировать', 'забетонировать'], dtype=object)"
            ]
          },
          "metadata": {},
          "execution_count": 56
        }
      ]
    },
    {
      "cell_type": "code",
      "source": [
        "df['имеет коррелят СВ'] = perf_pairs.str.strip() != ''\n",
        "df['имеет коррелят НСВ'] = imp_pairs.str.strip() != ''"
      ],
      "metadata": {
        "id": "Gq1DnMHOJChK"
      },
      "execution_count": 57,
      "outputs": []
    },
    {
      "cell_type": "markdown",
      "source": [
        "Grammar, semantics, syntactic and additional features processing"
      ],
      "metadata": {
        "id": "nmwFf0r1fxUH"
      }
    },
    {
      "cell_type": "code",
      "source": [
        "df['грамматика'] = df['грамматика'].fillna('').apply(lambda x: '' if x is None else x)\n",
        "df['семантика'] = df['семантика'].fillna('').apply(lambda x: '' if x is None else x)\n",
        "df['синтаксические свойства слова'] = df['синтаксические свойства слова'].fillna('').apply(lambda x: '' if x is None else x)\n",
        "df['доп. признаки'] = df['доп. признаки'].fillna('').apply(lambda x: '' if x is None else x)"
      ],
      "metadata": {
        "id": "u77bhmIcj31h"
      },
      "execution_count": 58,
      "outputs": []
    },
    {
      "cell_type": "code",
      "source": [
        "grammar_properties = {\n",
        "    'лицо': {'1-е лицо', '2-е лицо', '3-е лицо'},\n",
        "    'число': {'единственное', 'множественное'},\n",
        "    'вид': {'совершенный', 'несовершенный'},\n",
        "    'наклонение / форма': {'изъявительное', 'повелительное', 'повелительное 2', 'инфинитив', 'деепричастие', 'причастие'},\n",
        "    'залог': {'действительный', 'страдательный', 'медиальный'},\n",
        "    'время': {'настоящее', 'будущее', 'прошедшее'},\n",
        "    'число': {'единственное', 'множественное'},\n",
        "    'падеж': {'именительный', 'родительный', 'дательный', 'винительный', 'творительный', 'предложный', 'родительный 2', 'винительный 2', 'предложный 2', 'звательный', 'счётная форма'},\n",
        "    'одушевленность': {'одушевленное', 'неодушевленное'},\n",
        "    'полнота формы': {'полная форма', 'краткая форма'},\n",
        "    'род': {'мужской', 'женский', 'средний', 'общий'},\n",
        "    'переходность': {'переходный', 'непереходный'}\n",
        "}\n",
        "\n",
        "syntactic_properties = {\n",
        "    'аргументы': {'подлежащее (субъект)', 'дополнение (второй аргумент)', 'дативно-инструментальное дополнение', 'предложное дополнение', 'инфинитивное подлежащее', 'клаузальный комплемент', 'инфинитивный комплемент'},\n",
        "    'модификаторы': {'наречный модификатор', 'обстоятельственная клауза', 'количественный модификатор', 'атрибутивный модификатор', 'атрибутивная клауза', 'релятивная клауза', 'местоименный атрибутивный модификатор', 'аппозитив (приложение)', 'другие именные модификаторы'},\n",
        "    'не-зависимости': {'сочиненный элемент', 'второй элемент паратаксиса', 'вынос темы', 'элемент неоднословного оборота', 'элемент списка', 'второй элемент в имени', 'второй элемент неграмматической структуры', 'компаунд', 'прочие «плоские» отношения', 'самоисправление', 'ошибка раздельного написания'},\n",
        "    'позиция клаузы в иерархии': {'главная клауза', 'подчиненная клауза'},\n",
        "    'тип клаузы': {'клауза с эллипсисом', 'глагольная клауза', 'именная клауза', 'предикативная клауза'},\n",
        "    'оборот': {'распространенный причастный оборот', 'деепричастный оборот'},\n",
        "    'вершина': {'вершина предложения'},\n",
        "    'есть зависимые': {'есть зависимые'}\n",
        "}\n",
        "\n",
        "semantics = {\n",
        "    'таксономия': {'движение', 'помещение объекта', 'изменение состояния или признака', 'бытийная сфера', 'местонахождение', 'контакт и опора', 'посессивная сфера', 'ментальная сфера', 'восприятие', 'поведение человека', 'физиологическая сфера', 'природное явленин', 'звук', 'свет', 'запах'},\n",
        "    'таксономия конкретнее': {'изменение положения тела, части тела', 'создание физического объекта', 'уничтожение', 'существование', 'начало существования', 'прекращение существования', 'положение тела в пространстве', 'эмоция', 'воля', 'речь'},\n",
        "    'каузация': {'каузативные глаголы', 'некаузативные глаголы'},\n",
        "    'словообразование 1': {'отыменные', 'отглагольные', 'отадъективные', 'непроизводные глаголы'},\n",
        "    'словообразование 2': {'приставочные глаголы', 'семельфактивы', 'вторичные имперфективы (-ива-, -ва-, -а-)'},\n",
        "    'служебные глаголы': {'фазовые', 'служебные каузативные'}\n",
        "}\n",
        "\n",
        "# слово перед/после: любого знака препинания, точки, запятой, двоеточия, точки с запятой, тире, дефиса, восклицательного знака, вопросительного знака\n",
        "additional_features = {\n",
        "    'токен перед': {'bmark', 'bdot', 'bcomma', 'bcolon', 'bsemicolon', 'bdash', 'bhyphen', 'bexcl', 'bques'},\n",
        "    'токен после': {'amark', 'amark', 'adot', 'acomma', 'acolon', 'asemicolon', 'adash', 'ahyphen', 'aexcl', 'aques'},\n",
        "    'прочее': {'norm', 'bastard', 'first', 'last'},\n",
        "    'начинается с заглавной': {'capital'},\n",
        "    'повтор': {'lexred', 'posred', 'casered', 'numred', 'timered', 'genderred', 'persred', 'animred'},\n",
        "    'тип оборота 1': {'mw:ADV', 'mw:ADVPRO', 'mw:CONJ', 'mw:PARENTH', 'mw:PART', 'mw:PR', 'mw:PRAEDIC', 'mw:SPRO'},\n",
        "    'тип оборота 2': {'mw:degr:max', 'mw:dir', 'mw:dist:max', 'mw:dur:max', 'mw:ev', 'mw:ev:neg', 'mw:ev:posit', 'mw:loc:body'},\n",
        "    'тип оборота 3': {'mw:place', 'mw:rep', 'mw:shift', 'mw:space', 'mw:speed:max', 'mw:time'}\n",
        "}"
      ],
      "metadata": {
        "id": "VYlQRbrXU6Ut"
      },
      "execution_count": 59,
      "outputs": []
    },
    {
      "cell_type": "code",
      "source": [
        "def invert_dict(input_dict):\n",
        "  empty_placeholder = tuple()\n",
        "  inverted_dict = {}\n",
        "  for k, v in input_dict.items():\n",
        "    inverted_dict.update(dict(zip_longest(v, empty_placeholder, fillvalue=k)))\n",
        "  return inverted_dict\n",
        "\n",
        "grammar_properties_inv = invert_dict(grammar_properties)\n",
        "semantics_inv = invert_dict(semantics)\n",
        "syntactic_properties_inv = invert_dict(syntactic_properties)\n",
        "additional_features_inv = invert_dict(additional_features)"
      ],
      "metadata": {
        "id": "NiiOBOMhGXS4"
      },
      "execution_count": 60,
      "outputs": []
    },
    {
      "cell_type": "code",
      "source": [
        "df['основной анализ'].value_counts()"
      ],
      "metadata": {
        "colab": {
          "base_uri": "https://localhost:8080/",
          "height": 178
        },
        "id": "gkul4bddl8jM",
        "outputId": "866362a6-d294-4ab0-b715-ccdac7f16694"
      },
      "execution_count": 61,
      "outputs": [
        {
          "output_type": "execute_result",
          "data": {
            "text/plain": [
              "основной анализ\n",
              "омонимия снята автоматически    28340\n",
              "омонимия снята                   3577\n",
              "Name: count, dtype: int64"
            ],
            "text/html": [
              "<div>\n",
              "<style scoped>\n",
              "    .dataframe tbody tr th:only-of-type {\n",
              "        vertical-align: middle;\n",
              "    }\n",
              "\n",
              "    .dataframe tbody tr th {\n",
              "        vertical-align: top;\n",
              "    }\n",
              "\n",
              "    .dataframe thead th {\n",
              "        text-align: right;\n",
              "    }\n",
              "</style>\n",
              "<table border=\"1\" class=\"dataframe\">\n",
              "  <thead>\n",
              "    <tr style=\"text-align: right;\">\n",
              "      <th></th>\n",
              "      <th>count</th>\n",
              "    </tr>\n",
              "    <tr>\n",
              "      <th>основной анализ</th>\n",
              "      <th></th>\n",
              "    </tr>\n",
              "  </thead>\n",
              "  <tbody>\n",
              "    <tr>\n",
              "      <th>омонимия снята автоматически</th>\n",
              "      <td>28340</td>\n",
              "    </tr>\n",
              "    <tr>\n",
              "      <th>омонимия снята</th>\n",
              "      <td>3577</td>\n",
              "    </tr>\n",
              "  </tbody>\n",
              "</table>\n",
              "</div><br><label><b>dtype:</b> int64</label>"
            ]
          },
          "metadata": {},
          "execution_count": 61
        }
      ]
    },
    {
      "cell_type": "code",
      "source": [
        "for property_ in grammar_properties:\n",
        "    df[property_] = df['грамматика'].apply(\n",
        "    lambda verb_properties: ' / '.join(\n",
        "        [gp for gram_prop in verb_properties.split(', ')\n",
        "        if grammar_properties_inv.get(gp := gram_prop.strip()) == property_]\n",
        "        )\n",
        "    )\n",
        "\n",
        "for property_ in semantics:\n",
        "    df[property_] = df['семантика'].apply(\n",
        "    lambda verb_properties: ''.join(\n",
        "        [gp for gram_prop in verb_properties.split(', ')\n",
        "        if semantics_inv.get(gp := gram_prop.strip()) == property_]\n",
        "        )\n",
        "    )\n",
        "\n",
        "\n",
        "for property_ in syntactic_properties:\n",
        "    df[property_] = df['синтаксические свойства слова'].apply(\n",
        "    lambda verb_properties: ' / '.join(\n",
        "        [gp for gram_prop in verb_properties.split(', ')\n",
        "        if syntactic_properties_inv.get(gp := gram_prop.strip()) == property_]\n",
        "        )\n",
        "    )\n",
        "\n",
        "for property_ in additional_features:\n",
        "    df[property_] = df['доп. признаки'].apply(\n",
        "    lambda verb_properties: ' / '.join(\n",
        "        [gp for gram_prop in verb_properties.split(', ')\n",
        "        if additional_features_inv.get(gp := gram_prop.strip()) == property_]\n",
        "        )\n",
        "    )"
      ],
      "metadata": {
        "id": "28QDCVE_pH8y"
      },
      "execution_count": 62,
      "outputs": []
    },
    {
      "cell_type": "code",
      "source": [
        "df.drop(['основной анализ', 'грамматика', 'семантика', 'похожие слова', 'синтаксические свойства слова', 'доп. признаки', 'ударение', 'морфемный разбор'], inplace=True, axis=1)\n",
        "df['возвратность'] = df['лемма'].apply(lambda row: row.endswith('ся'))\n",
        "df.dropna(inplace=True)"
      ],
      "metadata": {
        "id": "VvwurTDBpELb"
      },
      "execution_count": 63,
      "outputs": []
    },
    {
      "cell_type": "code",
      "source": [
        "for column in grammar_properties:\n",
        "  print(f'{column}: {df[column].unique()}')"
      ],
      "metadata": {
        "colab": {
          "base_uri": "https://localhost:8080/"
        },
        "id": "CbxMuSrzhXhP",
        "outputId": "0035df25-0302-4a46-96f4-97942d209440"
      },
      "execution_count": 64,
      "outputs": [
        {
          "output_type": "stream",
          "name": "stdout",
          "text": [
            "лицо: ['3-е лицо' '' '1-е лицо' '2-е лицо']\n",
            "число: ['единственное' '' 'множественное']\n",
            "вид: ['несовершенный' 'совершенный']\n",
            "наклонение / форма: ['изъявительное' 'деепричастие' 'причастие' 'инфинитив' 'повелительное']\n",
            "залог: ['действительный' 'страдательный' 'медиальный'\n",
            " 'действительный / медиальный']\n",
            "время: ['настоящее' 'прошедшее' '' 'будущее']\n",
            "падеж: ['' 'родительный' 'винительный' 'предложный' 'именительный' 'творительный'\n",
            " 'дательный']\n",
            "одушевленность: ['' 'неодушевленное' 'одушевленное']\n",
            "полнота формы: ['' 'полная форма' 'краткая форма']\n",
            "род: ['' 'женский' 'мужской' 'средний']\n",
            "переходность: ['переходный' 'непереходный' 'непереходный / переходный' '']\n"
          ]
        }
      ]
    },
    {
      "cell_type": "code",
      "source": [
        "df.drop(['прочее', 'тип оборота 1', 'тип оборота 2', 'тип оборота 3'], axis=1, inplace=True)\n",
        "df['повтор'] = df['повтор'] != ''\n",
        "df['токен перед'] = df['токен перед'] != ''\n",
        "df['токен после'] = df['токен после'] != ''\n",
        "df['начинается с заглавной'] = df['начинается с заглавной'] != ''\n",
        "try:\n",
        "  for column in additional_features:\n",
        "    print(f'{column}: {df[column].unique()}')\n",
        "except KeyError as e:\n",
        "  print(f'No column {e}')"
      ],
      "metadata": {
        "colab": {
          "base_uri": "https://localhost:8080/"
        },
        "id": "PbBIbtcKgmTx",
        "outputId": "63efffc1-84f6-43e1-8c43-a18ff6537ff0"
      },
      "execution_count": 65,
      "outputs": [
        {
          "output_type": "stream",
          "name": "stdout",
          "text": [
            "токен перед: [False  True]\n",
            "токен после: [False  True]\n",
            "No column 'прочее'\n"
          ]
        }
      ]
    },
    {
      "cell_type": "code",
      "source": [
        "for column in syntactic_properties:\n",
        "  print(f'{column}: {df[column].unique()}')"
      ],
      "metadata": {
        "colab": {
          "base_uri": "https://localhost:8080/"
        },
        "id": "NKiAKUi5hMK4",
        "outputId": "1f373c4c-e255-41ed-8dcb-c4699f849091"
      },
      "execution_count": 66,
      "outputs": [
        {
          "output_type": "stream",
          "name": "stdout",
          "text": [
            "аргументы: ['' 'клаузальный комплемент' 'инфинитивный комплемент'\n",
            " 'инфинитивное подлежащее' 'подлежащее (субъект)'\n",
            " 'дативно-инструментальное дополнение']\n",
            "модификаторы: ['' 'обстоятельственная клауза' 'атрибутивная клауза'\n",
            " 'другие именные модификаторы' 'атрибутивный модификатор'\n",
            " 'релятивная клауза' 'аппозитив (приложение)' 'наречный модификатор']\n",
            "не-зависимости: ['' 'сочиненный элемент' 'второй элемент паратаксиса'\n",
            " 'элемент неоднословного оборота' 'прочие «плоские» отношения']\n",
            "позиция клаузы в иерархии: ['' 'подчиненная клауза' 'главная клауза']\n",
            "тип клаузы: ['' 'глагольная клауза' 'именная клауза'\n",
            " 'предикативная клауза / предикативная клауза'\n",
            " 'именная клауза / глагольная клауза' 'предикативная клауза'\n",
            " 'глагольная клауза / именная клауза']\n",
            "оборот: ['' 'деепричастный оборот' 'распространенный причастный оборот'\n",
            " 'распространенный причастный оборот / распространенный причастный оборот'\n",
            " 'распространенный причастный оборот / деепричастный оборот']\n",
            "вершина: ['' 'вершина предложения']\n",
            "есть зависимые: ['' 'есть зависимые']\n"
          ]
        }
      ]
    },
    {
      "cell_type": "code",
      "source": [
        "df.drop(['служебные глаголы'], axis=1, inplace=True)\n",
        "try:\n",
        "  for column in semantics:\n",
        "    print(f'{column}: {df[column].unique()}')\n",
        "except KeyError as e:\n",
        "  print(f'No column {e}')"
      ],
      "metadata": {
        "colab": {
          "base_uri": "https://localhost:8080/"
        },
        "id": "-CCiLTXKhOsG",
        "outputId": "f062a6ef-3dbe-4d32-96c0-88c75c9f3a32"
      },
      "execution_count": 67,
      "outputs": [
        {
          "output_type": "stream",
          "name": "stdout",
          "text": [
            "таксономия: ['' 'посессивная сфера' 'изменение состояния или признака'\n",
            " 'местонахождение' 'движение' 'помещение объекта' 'ментальная сфера']\n",
            "таксономия конкретнее: ['' 'создание физического объекта' 'речь' 'прекращение существования'\n",
            " 'начало существования' 'существование']\n",
            "каузация: ['' 'каузативные глаголы' 'некаузативные глаголы']\n",
            "словообразование 1: ['' 'отыменные' 'отадъективные' 'отглагольные' 'непроизводные глаголы']\n",
            "словообразование 2: ['' 'приставочные глаголы']\n",
            "No column 'служебные глаголы'\n"
          ]
        }
      ]
    },
    {
      "cell_type": "code",
      "source": [
        "grouped = df.groupby('лемма')['вид'].nunique()\n",
        "lemmas_to_keep = grouped[grouped > 1].index\n",
        "df = df[df['лемма'].isin(lemmas_to_keep)]\n",
        "print(df['вид'].value_counts())\n",
        "print(df['лемма'].nunique())\n",
        "df['лемма'].value_counts().tail(10)"
      ],
      "metadata": {
        "colab": {
          "base_uri": "https://localhost:8080/",
          "height": 516
        },
        "id": "_aGdr-p0rC3t",
        "outputId": "f145aa24-f11d-4892-fdac-8b6690b6a8b3"
      },
      "execution_count": 68,
      "outputs": [
        {
          "output_type": "stream",
          "name": "stdout",
          "text": [
            "вид\n",
            "несовершенный    15996\n",
            "совершенный       8288\n",
            "Name: count, dtype: int64\n",
            "217\n"
          ]
        },
        {
          "output_type": "execute_result",
          "data": {
            "text/plain": [
              "лемма\n",
              "педализировать       6\n",
              "алгоритмизировать    6\n",
              "фаворизировать       5\n",
              "интерпеллировать     5\n",
              "дросселировать       5\n",
              "авторизоваться       4\n",
              "ректифицировать      4\n",
              "алкоголизировать     4\n",
              "пульверизировать     4\n",
              "теплофицировать      3\n",
              "Name: count, dtype: int64"
            ],
            "text/html": [
              "<div>\n",
              "<style scoped>\n",
              "    .dataframe tbody tr th:only-of-type {\n",
              "        vertical-align: middle;\n",
              "    }\n",
              "\n",
              "    .dataframe tbody tr th {\n",
              "        vertical-align: top;\n",
              "    }\n",
              "\n",
              "    .dataframe thead th {\n",
              "        text-align: right;\n",
              "    }\n",
              "</style>\n",
              "<table border=\"1\" class=\"dataframe\">\n",
              "  <thead>\n",
              "    <tr style=\"text-align: right;\">\n",
              "      <th></th>\n",
              "      <th>count</th>\n",
              "    </tr>\n",
              "    <tr>\n",
              "      <th>лемма</th>\n",
              "      <th></th>\n",
              "    </tr>\n",
              "  </thead>\n",
              "  <tbody>\n",
              "    <tr>\n",
              "      <th>педализировать</th>\n",
              "      <td>6</td>\n",
              "    </tr>\n",
              "    <tr>\n",
              "      <th>алгоритмизировать</th>\n",
              "      <td>6</td>\n",
              "    </tr>\n",
              "    <tr>\n",
              "      <th>фаворизировать</th>\n",
              "      <td>5</td>\n",
              "    </tr>\n",
              "    <tr>\n",
              "      <th>интерпеллировать</th>\n",
              "      <td>5</td>\n",
              "    </tr>\n",
              "    <tr>\n",
              "      <th>дросселировать</th>\n",
              "      <td>5</td>\n",
              "    </tr>\n",
              "    <tr>\n",
              "      <th>авторизоваться</th>\n",
              "      <td>4</td>\n",
              "    </tr>\n",
              "    <tr>\n",
              "      <th>ректифицировать</th>\n",
              "      <td>4</td>\n",
              "    </tr>\n",
              "    <tr>\n",
              "      <th>алкоголизировать</th>\n",
              "      <td>4</td>\n",
              "    </tr>\n",
              "    <tr>\n",
              "      <th>пульверизировать</th>\n",
              "      <td>4</td>\n",
              "    </tr>\n",
              "    <tr>\n",
              "      <th>теплофицировать</th>\n",
              "      <td>3</td>\n",
              "    </tr>\n",
              "  </tbody>\n",
              "</table>\n",
              "</div><br><label><b>dtype:</b> int64</label>"
            ]
          },
          "metadata": {},
          "execution_count": 68
        }
      ]
    },
    {
      "cell_type": "code",
      "source": [],
      "metadata": {
        "id": "sEpLI7s8-QmB"
      },
      "execution_count": 68,
      "outputs": []
    },
    {
      "cell_type": "code",
      "source": [],
      "metadata": {
        "id": "d0MV5CFYrii3"
      },
      "execution_count": 68,
      "outputs": []
    },
    {
      "cell_type": "code",
      "source": [
        "df.isna().sum().sum()"
      ],
      "metadata": {
        "colab": {
          "base_uri": "https://localhost:8080/"
        },
        "id": "NmqlF44dHZRE",
        "outputId": "902938b0-d734-4325-f1d9-a5a0a9550258"
      },
      "execution_count": 69,
      "outputs": [
        {
          "output_type": "execute_result",
          "data": {
            "text/plain": [
              "0"
            ]
          },
          "metadata": {},
          "execution_count": 69
        }
      ]
    },
    {
      "cell_type": "code",
      "source": [
        "df.info()"
      ],
      "metadata": {
        "colab": {
          "base_uri": "https://localhost:8080/"
        },
        "id": "k9reMsLZHqkC",
        "outputId": "fcd3717f-1dc6-4a59-be9f-56e6c0438716"
      },
      "execution_count": 70,
      "outputs": [
        {
          "output_type": "stream",
          "name": "stdout",
          "text": [
            "<class 'pandas.core.frame.DataFrame'>\n",
            "Index: 24284 entries, 0 to 31956\n",
            "Data columns (total 45 columns):\n",
            " #   Column                                  Non-Null Count  Dtype \n",
            "---  ------                                  --------------  ----- \n",
            " 0   словоформа                              24284 non-null  object\n",
            " 1   лемма                                   24284 non-null  object\n",
            " 2   контекст                                24284 non-null  object\n",
            " 3   ударный интерфикс -и́р-                 24284 non-null  bool  \n",
            " 4   ударный -а- в суффиксе -ова́-           24284 non-null  bool  \n",
            " 5   опущение/отсутствие -ова- в словоформе  24284 non-null  bool  \n",
            " 6   приставка 1                             24284 non-null  object\n",
            " 7   корень 1                                24284 non-null  object\n",
            " 8   интерфикс 1                             24284 non-null  object\n",
            " 9   интерфикс 2                             24284 non-null  object\n",
            " 10  суффикс 1                               24284 non-null  object\n",
            " 11  суффикс 2                               24284 non-null  object\n",
            " 12  суффикс 3                               24284 non-null  object\n",
            " 13  окончание                               24284 non-null  object\n",
            " 14  имеет коррелят СВ                       24284 non-null  bool  \n",
            " 15  имеет коррелят НСВ                      24284 non-null  bool  \n",
            " 16  лицо                                    24284 non-null  object\n",
            " 17  число                                   24284 non-null  object\n",
            " 18  вид                                     24284 non-null  object\n",
            " 19  наклонение / форма                      24284 non-null  object\n",
            " 20  залог                                   24284 non-null  object\n",
            " 21  время                                   24284 non-null  object\n",
            " 22  падеж                                   24284 non-null  object\n",
            " 23  одушевленность                          24284 non-null  object\n",
            " 24  полнота формы                           24284 non-null  object\n",
            " 25  род                                     24284 non-null  object\n",
            " 26  переходность                            24284 non-null  object\n",
            " 27  таксономия                              24284 non-null  object\n",
            " 28  таксономия конкретнее                   24284 non-null  object\n",
            " 29  каузация                                24284 non-null  object\n",
            " 30  словообразование 1                      24284 non-null  object\n",
            " 31  словообразование 2                      24284 non-null  object\n",
            " 32  аргументы                               24284 non-null  object\n",
            " 33  модификаторы                            24284 non-null  object\n",
            " 34  не-зависимости                          24284 non-null  object\n",
            " 35  позиция клаузы в иерархии               24284 non-null  object\n",
            " 36  тип клаузы                              24284 non-null  object\n",
            " 37  оборот                                  24284 non-null  object\n",
            " 38  вершина                                 24284 non-null  object\n",
            " 39  есть зависимые                          24284 non-null  object\n",
            " 40  токен перед                             24284 non-null  bool  \n",
            " 41  токен после                             24284 non-null  bool  \n",
            " 42  начинается с заглавной                  24284 non-null  bool  \n",
            " 43  повтор                                  24284 non-null  bool  \n",
            " 44  возвратность                            24284 non-null  bool  \n",
            "dtypes: bool(10), object(35)\n",
            "memory usage: 6.9+ MB\n"
          ]
        }
      ]
    },
    {
      "cell_type": "code",
      "source": [
        "df.describe()"
      ],
      "metadata": {
        "colab": {
          "base_uri": "https://localhost:8080/",
          "height": 276
        },
        "id": "xz-u8XZXpaGy",
        "outputId": "128118b5-3f8f-43f9-bce6-f812aab3d061"
      },
      "execution_count": 71,
      "outputs": [
        {
          "output_type": "execute_result",
          "data": {
            "text/plain": [
              "       словоформа       лемма контекст ударный интерфикс -и́р-  \\\n",
              "count       24284       24284    24284                   24284   \n",
              "unique       4617         217    18548                       2   \n",
              "top                соборовать                             True   \n",
              "freq          858         407       80                   17113   \n",
              "\n",
              "       ударный -а- в суффиксе -ова́- опущение/отсутствие -ова- в словоформе  \\\n",
              "count                          24284                                  24284   \n",
              "unique                             2                                      2   \n",
              "top                            False                                   True   \n",
              "freq                           19105                                  15279   \n",
              "\n",
              "       приставка 1 корень 1 интерфикс 1 интерфикс 2  ...  \\\n",
              "count        24284    24284       24284       24284  ...   \n",
              "unique          16      199           8           4  ...   \n",
              "top                     мин          ир              ...   \n",
              "freq         21894      780       13926       20682  ...   \n",
              "\n",
              "       позиция клаузы в иерархии тип клаузы оборот вершина есть зависимые  \\\n",
              "count                      24284      24284  24284   24284          24284   \n",
              "unique                         3          7      5       2              2   \n",
              "top                                                                         \n",
              "freq                       21833      20444  23003   23443          20675   \n",
              "\n",
              "       токен перед токен после начинается с заглавной повтор возвратность  \n",
              "count        24284       24284                  24284  24284        24284  \n",
              "unique           2           2                      2      2            2  \n",
              "top          False       False                  False  False        False  \n",
              "freq         23628       23202                  24044  21911        23022  \n",
              "\n",
              "[4 rows x 45 columns]"
            ],
            "text/html": [
              "\n",
              "  <div id=\"df-c51ca124-0a55-4a07-95bd-69b65a5cbcbf\" class=\"colab-df-container\">\n",
              "    <div>\n",
              "<style scoped>\n",
              "    .dataframe tbody tr th:only-of-type {\n",
              "        vertical-align: middle;\n",
              "    }\n",
              "\n",
              "    .dataframe tbody tr th {\n",
              "        vertical-align: top;\n",
              "    }\n",
              "\n",
              "    .dataframe thead th {\n",
              "        text-align: right;\n",
              "    }\n",
              "</style>\n",
              "<table border=\"1\" class=\"dataframe\">\n",
              "  <thead>\n",
              "    <tr style=\"text-align: right;\">\n",
              "      <th></th>\n",
              "      <th>словоформа</th>\n",
              "      <th>лемма</th>\n",
              "      <th>контекст</th>\n",
              "      <th>ударный интерфикс -и́р-</th>\n",
              "      <th>ударный -а- в суффиксе -ова́-</th>\n",
              "      <th>опущение/отсутствие -ова- в словоформе</th>\n",
              "      <th>приставка 1</th>\n",
              "      <th>корень 1</th>\n",
              "      <th>интерфикс 1</th>\n",
              "      <th>интерфикс 2</th>\n",
              "      <th>...</th>\n",
              "      <th>позиция клаузы в иерархии</th>\n",
              "      <th>тип клаузы</th>\n",
              "      <th>оборот</th>\n",
              "      <th>вершина</th>\n",
              "      <th>есть зависимые</th>\n",
              "      <th>токен перед</th>\n",
              "      <th>токен после</th>\n",
              "      <th>начинается с заглавной</th>\n",
              "      <th>повтор</th>\n",
              "      <th>возвратность</th>\n",
              "    </tr>\n",
              "  </thead>\n",
              "  <tbody>\n",
              "    <tr>\n",
              "      <th>count</th>\n",
              "      <td>24284</td>\n",
              "      <td>24284</td>\n",
              "      <td>24284</td>\n",
              "      <td>24284</td>\n",
              "      <td>24284</td>\n",
              "      <td>24284</td>\n",
              "      <td>24284</td>\n",
              "      <td>24284</td>\n",
              "      <td>24284</td>\n",
              "      <td>24284</td>\n",
              "      <td>...</td>\n",
              "      <td>24284</td>\n",
              "      <td>24284</td>\n",
              "      <td>24284</td>\n",
              "      <td>24284</td>\n",
              "      <td>24284</td>\n",
              "      <td>24284</td>\n",
              "      <td>24284</td>\n",
              "      <td>24284</td>\n",
              "      <td>24284</td>\n",
              "      <td>24284</td>\n",
              "    </tr>\n",
              "    <tr>\n",
              "      <th>unique</th>\n",
              "      <td>4617</td>\n",
              "      <td>217</td>\n",
              "      <td>18548</td>\n",
              "      <td>2</td>\n",
              "      <td>2</td>\n",
              "      <td>2</td>\n",
              "      <td>16</td>\n",
              "      <td>199</td>\n",
              "      <td>8</td>\n",
              "      <td>4</td>\n",
              "      <td>...</td>\n",
              "      <td>3</td>\n",
              "      <td>7</td>\n",
              "      <td>5</td>\n",
              "      <td>2</td>\n",
              "      <td>2</td>\n",
              "      <td>2</td>\n",
              "      <td>2</td>\n",
              "      <td>2</td>\n",
              "      <td>2</td>\n",
              "      <td>2</td>\n",
              "    </tr>\n",
              "    <tr>\n",
              "      <th>top</th>\n",
              "      <td></td>\n",
              "      <td>соборовать</td>\n",
              "      <td></td>\n",
              "      <td>True</td>\n",
              "      <td>False</td>\n",
              "      <td>True</td>\n",
              "      <td></td>\n",
              "      <td>мин</td>\n",
              "      <td>ир</td>\n",
              "      <td></td>\n",
              "      <td>...</td>\n",
              "      <td></td>\n",
              "      <td></td>\n",
              "      <td></td>\n",
              "      <td></td>\n",
              "      <td></td>\n",
              "      <td>False</td>\n",
              "      <td>False</td>\n",
              "      <td>False</td>\n",
              "      <td>False</td>\n",
              "      <td>False</td>\n",
              "    </tr>\n",
              "    <tr>\n",
              "      <th>freq</th>\n",
              "      <td>858</td>\n",
              "      <td>407</td>\n",
              "      <td>80</td>\n",
              "      <td>17113</td>\n",
              "      <td>19105</td>\n",
              "      <td>15279</td>\n",
              "      <td>21894</td>\n",
              "      <td>780</td>\n",
              "      <td>13926</td>\n",
              "      <td>20682</td>\n",
              "      <td>...</td>\n",
              "      <td>21833</td>\n",
              "      <td>20444</td>\n",
              "      <td>23003</td>\n",
              "      <td>23443</td>\n",
              "      <td>20675</td>\n",
              "      <td>23628</td>\n",
              "      <td>23202</td>\n",
              "      <td>24044</td>\n",
              "      <td>21911</td>\n",
              "      <td>23022</td>\n",
              "    </tr>\n",
              "  </tbody>\n",
              "</table>\n",
              "<p>4 rows × 45 columns</p>\n",
              "</div>\n",
              "    <div class=\"colab-df-buttons\">\n",
              "\n",
              "  <div class=\"colab-df-container\">\n",
              "    <button class=\"colab-df-convert\" onclick=\"convertToInteractive('df-c51ca124-0a55-4a07-95bd-69b65a5cbcbf')\"\n",
              "            title=\"Convert this dataframe to an interactive table.\"\n",
              "            style=\"display:none;\">\n",
              "\n",
              "  <svg xmlns=\"http://www.w3.org/2000/svg\" height=\"24px\" viewBox=\"0 -960 960 960\">\n",
              "    <path d=\"M120-120v-720h720v720H120Zm60-500h600v-160H180v160Zm220 220h160v-160H400v160Zm0 220h160v-160H400v160ZM180-400h160v-160H180v160Zm440 0h160v-160H620v160ZM180-180h160v-160H180v160Zm440 0h160v-160H620v160Z\"/>\n",
              "  </svg>\n",
              "    </button>\n",
              "\n",
              "  <style>\n",
              "    .colab-df-container {\n",
              "      display:flex;\n",
              "      gap: 12px;\n",
              "    }\n",
              "\n",
              "    .colab-df-convert {\n",
              "      background-color: #E8F0FE;\n",
              "      border: none;\n",
              "      border-radius: 50%;\n",
              "      cursor: pointer;\n",
              "      display: none;\n",
              "      fill: #1967D2;\n",
              "      height: 32px;\n",
              "      padding: 0 0 0 0;\n",
              "      width: 32px;\n",
              "    }\n",
              "\n",
              "    .colab-df-convert:hover {\n",
              "      background-color: #E2EBFA;\n",
              "      box-shadow: 0px 1px 2px rgba(60, 64, 67, 0.3), 0px 1px 3px 1px rgba(60, 64, 67, 0.15);\n",
              "      fill: #174EA6;\n",
              "    }\n",
              "\n",
              "    .colab-df-buttons div {\n",
              "      margin-bottom: 4px;\n",
              "    }\n",
              "\n",
              "    [theme=dark] .colab-df-convert {\n",
              "      background-color: #3B4455;\n",
              "      fill: #D2E3FC;\n",
              "    }\n",
              "\n",
              "    [theme=dark] .colab-df-convert:hover {\n",
              "      background-color: #434B5C;\n",
              "      box-shadow: 0px 1px 3px 1px rgba(0, 0, 0, 0.15);\n",
              "      filter: drop-shadow(0px 1px 2px rgba(0, 0, 0, 0.3));\n",
              "      fill: #FFFFFF;\n",
              "    }\n",
              "  </style>\n",
              "\n",
              "    <script>\n",
              "      const buttonEl =\n",
              "        document.querySelector('#df-c51ca124-0a55-4a07-95bd-69b65a5cbcbf button.colab-df-convert');\n",
              "      buttonEl.style.display =\n",
              "        google.colab.kernel.accessAllowed ? 'block' : 'none';\n",
              "\n",
              "      async function convertToInteractive(key) {\n",
              "        const element = document.querySelector('#df-c51ca124-0a55-4a07-95bd-69b65a5cbcbf');\n",
              "        const dataTable =\n",
              "          await google.colab.kernel.invokeFunction('convertToInteractive',\n",
              "                                                    [key], {});\n",
              "        if (!dataTable) return;\n",
              "\n",
              "        const docLinkHtml = 'Like what you see? Visit the ' +\n",
              "          '<a target=\"_blank\" href=https://colab.research.google.com/notebooks/data_table.ipynb>data table notebook</a>'\n",
              "          + ' to learn more about interactive tables.';\n",
              "        element.innerHTML = '';\n",
              "        dataTable['output_type'] = 'display_data';\n",
              "        await google.colab.output.renderOutput(dataTable, element);\n",
              "        const docLink = document.createElement('div');\n",
              "        docLink.innerHTML = docLinkHtml;\n",
              "        element.appendChild(docLink);\n",
              "      }\n",
              "    </script>\n",
              "  </div>\n",
              "\n",
              "\n",
              "<div id=\"df-19b245f3-ee55-4927-b8c5-c3cc0fea3b5f\">\n",
              "  <button class=\"colab-df-quickchart\" onclick=\"quickchart('df-19b245f3-ee55-4927-b8c5-c3cc0fea3b5f')\"\n",
              "            title=\"Suggest charts\"\n",
              "            style=\"display:none;\">\n",
              "\n",
              "<svg xmlns=\"http://www.w3.org/2000/svg\" height=\"24px\"viewBox=\"0 0 24 24\"\n",
              "     width=\"24px\">\n",
              "    <g>\n",
              "        <path d=\"M19 3H5c-1.1 0-2 .9-2 2v14c0 1.1.9 2 2 2h14c1.1 0 2-.9 2-2V5c0-1.1-.9-2-2-2zM9 17H7v-7h2v7zm4 0h-2V7h2v10zm4 0h-2v-4h2v4z\"/>\n",
              "    </g>\n",
              "</svg>\n",
              "  </button>\n",
              "\n",
              "<style>\n",
              "  .colab-df-quickchart {\n",
              "      --bg-color: #E8F0FE;\n",
              "      --fill-color: #1967D2;\n",
              "      --hover-bg-color: #E2EBFA;\n",
              "      --hover-fill-color: #174EA6;\n",
              "      --disabled-fill-color: #AAA;\n",
              "      --disabled-bg-color: #DDD;\n",
              "  }\n",
              "\n",
              "  [theme=dark] .colab-df-quickchart {\n",
              "      --bg-color: #3B4455;\n",
              "      --fill-color: #D2E3FC;\n",
              "      --hover-bg-color: #434B5C;\n",
              "      --hover-fill-color: #FFFFFF;\n",
              "      --disabled-bg-color: #3B4455;\n",
              "      --disabled-fill-color: #666;\n",
              "  }\n",
              "\n",
              "  .colab-df-quickchart {\n",
              "    background-color: var(--bg-color);\n",
              "    border: none;\n",
              "    border-radius: 50%;\n",
              "    cursor: pointer;\n",
              "    display: none;\n",
              "    fill: var(--fill-color);\n",
              "    height: 32px;\n",
              "    padding: 0;\n",
              "    width: 32px;\n",
              "  }\n",
              "\n",
              "  .colab-df-quickchart:hover {\n",
              "    background-color: var(--hover-bg-color);\n",
              "    box-shadow: 0 1px 2px rgba(60, 64, 67, 0.3), 0 1px 3px 1px rgba(60, 64, 67, 0.15);\n",
              "    fill: var(--button-hover-fill-color);\n",
              "  }\n",
              "\n",
              "  .colab-df-quickchart-complete:disabled,\n",
              "  .colab-df-quickchart-complete:disabled:hover {\n",
              "    background-color: var(--disabled-bg-color);\n",
              "    fill: var(--disabled-fill-color);\n",
              "    box-shadow: none;\n",
              "  }\n",
              "\n",
              "  .colab-df-spinner {\n",
              "    border: 2px solid var(--fill-color);\n",
              "    border-color: transparent;\n",
              "    border-bottom-color: var(--fill-color);\n",
              "    animation:\n",
              "      spin 1s steps(1) infinite;\n",
              "  }\n",
              "\n",
              "  @keyframes spin {\n",
              "    0% {\n",
              "      border-color: transparent;\n",
              "      border-bottom-color: var(--fill-color);\n",
              "      border-left-color: var(--fill-color);\n",
              "    }\n",
              "    20% {\n",
              "      border-color: transparent;\n",
              "      border-left-color: var(--fill-color);\n",
              "      border-top-color: var(--fill-color);\n",
              "    }\n",
              "    30% {\n",
              "      border-color: transparent;\n",
              "      border-left-color: var(--fill-color);\n",
              "      border-top-color: var(--fill-color);\n",
              "      border-right-color: var(--fill-color);\n",
              "    }\n",
              "    40% {\n",
              "      border-color: transparent;\n",
              "      border-right-color: var(--fill-color);\n",
              "      border-top-color: var(--fill-color);\n",
              "    }\n",
              "    60% {\n",
              "      border-color: transparent;\n",
              "      border-right-color: var(--fill-color);\n",
              "    }\n",
              "    80% {\n",
              "      border-color: transparent;\n",
              "      border-right-color: var(--fill-color);\n",
              "      border-bottom-color: var(--fill-color);\n",
              "    }\n",
              "    90% {\n",
              "      border-color: transparent;\n",
              "      border-bottom-color: var(--fill-color);\n",
              "    }\n",
              "  }\n",
              "</style>\n",
              "\n",
              "  <script>\n",
              "    async function quickchart(key) {\n",
              "      const quickchartButtonEl =\n",
              "        document.querySelector('#' + key + ' button');\n",
              "      quickchartButtonEl.disabled = true;  // To prevent multiple clicks.\n",
              "      quickchartButtonEl.classList.add('colab-df-spinner');\n",
              "      try {\n",
              "        const charts = await google.colab.kernel.invokeFunction(\n",
              "            'suggestCharts', [key], {});\n",
              "      } catch (error) {\n",
              "        console.error('Error during call to suggestCharts:', error);\n",
              "      }\n",
              "      quickchartButtonEl.classList.remove('colab-df-spinner');\n",
              "      quickchartButtonEl.classList.add('colab-df-quickchart-complete');\n",
              "    }\n",
              "    (() => {\n",
              "      let quickchartButtonEl =\n",
              "        document.querySelector('#df-19b245f3-ee55-4927-b8c5-c3cc0fea3b5f button');\n",
              "      quickchartButtonEl.style.display =\n",
              "        google.colab.kernel.accessAllowed ? 'block' : 'none';\n",
              "    })();\n",
              "  </script>\n",
              "</div>\n",
              "    </div>\n",
              "  </div>\n"
            ],
            "application/vnd.google.colaboratory.intrinsic+json": {
              "type": "dataframe"
            }
          },
          "metadata": {},
          "execution_count": 71
        }
      ]
    },
    {
      "cell_type": "code",
      "source": [
        "df.to_json('/content/drive/MyDrive/biaspectual_verbs_preprocessed.json', orient='records')"
      ],
      "metadata": {
        "id": "GX6FFNy_oux1"
      },
      "execution_count": 74,
      "outputs": []
    }
  ]
}